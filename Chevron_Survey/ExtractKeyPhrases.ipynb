{
 "cells": [
  {
   "cell_type": "code",
   "execution_count": 5,
   "metadata": {},
   "outputs": [],
   "source": [
    "#IMPORT PACKAGES\n",
    "import pandas as pd\n",
    "import numpy as np\n",
    "from keybert import KeyBERT"
   ]
  },
  {
   "cell_type": "code",
   "execution_count": 6,
   "metadata": {},
   "outputs": [],
   "source": [
    "# DEFINE FUNCTIONS\n",
    "def FilterByCriteria(data, column, filter_criteria):\n",
    "    return data[data[column]==filter_criteria]"
   ]
  },
  {
   "cell_type": "code",
   "execution_count": 7,
   "metadata": {},
   "outputs": [],
   "source": [
    "# IMPORT DATA\n",
    "#filepath = \"C:\\\\Users\\\\t_zim\\\\Desktop\\\\Data\\\\Bible\\\\\"\n",
    "#df = pd.read_csv(str(filepath)+\"clean_KJV.csv\")\n",
    "\n",
    "filepath = \"C:\\\\Users\\\\hlmq\\\\OneDrive - Chevron\\\\Data\\\\Bible\\\\\"\n",
    "df = pd.read_csv(str(filepath)+\"clean_KJV.csv\")\n",
    "\n",
    "\n",
    "# Filter to single Testament/Book/Chapter\n",
    "df = FilterByCriteria(df, \"Book\", \"James\")\n",
    "df.reset_index(inplace=True)\n",
    "\n"
   ]
  },
  {
   "cell_type": "code",
   "execution_count": 8,
   "metadata": {},
   "outputs": [
    {
     "data": {
      "text/html": [
       "<div>\n",
       "<style scoped>\n",
       "    .dataframe tbody tr th:only-of-type {\n",
       "        vertical-align: middle;\n",
       "    }\n",
       "\n",
       "    .dataframe tbody tr th {\n",
       "        vertical-align: top;\n",
       "    }\n",
       "\n",
       "    .dataframe thead th {\n",
       "        text-align: right;\n",
       "    }\n",
       "</style>\n",
       "<table border=\"1\" class=\"dataframe\">\n",
       "  <thead>\n",
       "    <tr style=\"text-align: right;\">\n",
       "      <th></th>\n",
       "      <th>index</th>\n",
       "      <th>Testament</th>\n",
       "      <th>Book</th>\n",
       "      <th>Chapter</th>\n",
       "      <th>Verse</th>\n",
       "      <th>Verse_Text</th>\n",
       "      <th>clean_verse_text</th>\n",
       "      <th>Location</th>\n",
       "    </tr>\n",
       "  </thead>\n",
       "  <tbody>\n",
       "    <tr>\n",
       "      <th>0</th>\n",
       "      <td>30267</td>\n",
       "      <td>New Testament</td>\n",
       "      <td>James</td>\n",
       "      <td>1</td>\n",
       "      <td>1</td>\n",
       "      <td>James, a servant of God and of the Lord Jesus ...</td>\n",
       "      <td>[jam, servant, god, lord, jesus, christ, twelv...</td>\n",
       "      <td>James 1:1</td>\n",
       "    </tr>\n",
       "    <tr>\n",
       "      <th>1</th>\n",
       "      <td>30268</td>\n",
       "      <td>New Testament</td>\n",
       "      <td>James</td>\n",
       "      <td>1</td>\n",
       "      <td>2</td>\n",
       "      <td>My brethren, count it all joy when ye fall int...</td>\n",
       "      <td>[brethren, count, joy, ye, fall, divers, tempt...</td>\n",
       "      <td>James 1:2</td>\n",
       "    </tr>\n",
       "    <tr>\n",
       "      <th>2</th>\n",
       "      <td>30269</td>\n",
       "      <td>New Testament</td>\n",
       "      <td>James</td>\n",
       "      <td>1</td>\n",
       "      <td>3</td>\n",
       "      <td>Knowing &lt;i&gt;this&lt;/i&gt;, that the trying of your f...</td>\n",
       "      <td>[know, try, faith, worketh, patience]</td>\n",
       "      <td>James 1:3</td>\n",
       "    </tr>\n",
       "    <tr>\n",
       "      <th>3</th>\n",
       "      <td>30270</td>\n",
       "      <td>New Testament</td>\n",
       "      <td>James</td>\n",
       "      <td>1</td>\n",
       "      <td>4</td>\n",
       "      <td>But let patience have &lt;i&gt;her&lt;/i&gt; perfect work,...</td>\n",
       "      <td>[patience, perfect, work, ye, may, perfect, en...</td>\n",
       "      <td>James 1:4</td>\n",
       "    </tr>\n",
       "    <tr>\n",
       "      <th>4</th>\n",
       "      <td>30271</td>\n",
       "      <td>New Testament</td>\n",
       "      <td>James</td>\n",
       "      <td>1</td>\n",
       "      <td>5</td>\n",
       "      <td>If any of you lack wisdom, let him ask of God,...</td>\n",
       "      <td>[lack, wisdom, ask, god, giveth, men, liberall...</td>\n",
       "      <td>James 1:5</td>\n",
       "    </tr>\n",
       "  </tbody>\n",
       "</table>\n",
       "</div>"
      ],
      "text/plain": [
       "   index      Testament   Book  Chapter  Verse  \\\n",
       "0  30267  New Testament  James        1      1   \n",
       "1  30268  New Testament  James        1      2   \n",
       "2  30269  New Testament  James        1      3   \n",
       "3  30270  New Testament  James        1      4   \n",
       "4  30271  New Testament  James        1      5   \n",
       "\n",
       "                                          Verse_Text  \\\n",
       "0  James, a servant of God and of the Lord Jesus ...   \n",
       "1  My brethren, count it all joy when ye fall int...   \n",
       "2  Knowing <i>this</i>, that the trying of your f...   \n",
       "3  But let patience have <i>her</i> perfect work,...   \n",
       "4  If any of you lack wisdom, let him ask of God,...   \n",
       "\n",
       "                                    clean_verse_text   Location  \n",
       "0  [jam, servant, god, lord, jesus, christ, twelv...  James 1:1  \n",
       "1  [brethren, count, joy, ye, fall, divers, tempt...  James 1:2  \n",
       "2              [know, try, faith, worketh, patience]  James 1:3  \n",
       "3  [patience, perfect, work, ye, may, perfect, en...  James 1:4  \n",
       "4  [lack, wisdom, ask, god, giveth, men, liberall...  James 1:5  "
      ]
     },
     "execution_count": 8,
     "metadata": {},
     "output_type": "execute_result"
    }
   ],
   "source": [
    "df.head()"
   ]
  },
  {
   "cell_type": "markdown",
   "metadata": {},
   "source": [
    "# Extract Key Phrases"
   ]
  },
  {
   "cell_type": "code",
   "execution_count": 9,
   "metadata": {},
   "outputs": [],
   "source": [
    "kw_model = KeyBERT()\n",
    "kw_model_multi = KeyBERT('paraphrase-multilingual-MiniLM-L12-v2')"
   ]
  },
  {
   "cell_type": "code",
   "execution_count": 10,
   "metadata": {},
   "outputs": [
    {
     "name": "stdout",
     "output_type": "stream",
     "text": [
      "0      James, a servant of God and of the Lord Jesus ...\n",
      "1      My brethren, count it all joy when ye fall int...\n",
      "2      Knowing <i>this</i>, that the trying of your f...\n",
      "3      But let patience have <i>her</i> perfect work,...\n",
      "4      If any of you lack wisdom, let him ask of God,...\n",
      "                             ...                        \n",
      "103    Confess <i>your</i> faults one to another, and...\n",
      "104    Elias was a man subject to like passions as we...\n",
      "105    And he prayed again, and the heaven gave rain,...\n",
      "106    Brethren, if any of you do err from the truth,...\n",
      "107    Let him know, that he which converteth the sin...\n",
      "Name: Verse_Text, Length: 108, dtype: object\n"
     ]
    }
   ],
   "source": [
    "print(df['Verse_Text'])"
   ]
  },
  {
   "cell_type": "code",
   "execution_count": 11,
   "metadata": {},
   "outputs": [],
   "source": [
    "df['KeyPhrases'] = kw_model.extract_keywords(df[\"Verse_Text\"],\n",
    "                                            keyphrase_ngram_range=(1, 3),\n",
    "                                            #stop_words='english',\n",
    "                                            use_mmr=True,\n",
    "                                            diversity=0.3)"
   ]
  },
  {
   "cell_type": "code",
   "execution_count": 13,
   "metadata": {},
   "outputs": [
    {
     "name": "stdout",
     "output_type": "stream",
     "text": [
      "0    [(james servant god, 0.6628), (james servant, ...\n",
      "1    [(divers temptations, 0.7668), (fall divers te...\n",
      "2    [(faith worketh patience, 0.7583), (knowing tr...\n",
      "3    [(let patience perfect, 0.629), (patience perf...\n",
      "Name: KeyPhrases, dtype: object\n"
     ]
    }
   ],
   "source": [
    "print(df.KeyPhrases[0:4])"
   ]
  },
  {
   "cell_type": "code",
   "execution_count": null,
   "metadata": {},
   "outputs": [],
   "source": []
  }
 ],
 "metadata": {
  "kernelspec": {
   "display_name": "Python 3.9.5 ('base')",
   "language": "python",
   "name": "python3"
  },
  "language_info": {
   "codemirror_mode": {
    "name": "ipython",
    "version": 3
   },
   "file_extension": ".py",
   "mimetype": "text/x-python",
   "name": "python",
   "nbconvert_exporter": "python",
   "pygments_lexer": "ipython3",
   "version": "3.9.5"
  },
  "orig_nbformat": 4,
  "vscode": {
   "interpreter": {
    "hash": "19d1d53a962d236aa061289c2ac16dc8e6d9648c89fe79f459ae9a3493bc67b4"
   }
  }
 },
 "nbformat": 4,
 "nbformat_minor": 2
}
