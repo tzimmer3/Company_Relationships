{
 "cells": [
  {
   "cell_type": "code",
   "execution_count": 1,
   "metadata": {},
   "outputs": [],
   "source": [
    "import pandas as pd\n",
    "import nltk"
   ]
  },
  {
   "cell_type": "code",
   "execution_count": 2,
   "metadata": {},
   "outputs": [],
   "source": [
    "df = pd.read_csv(\"C:\\\\Users\\\\hlmq\\\\OneDrive - Chevron\\\\Desktop\\\\Projects\\\\GSIC Threat Prediction\\\\Data\\\\LABELED_1.11.23_RandomSet2Predictions_1524.csv\")"
   ]
  },
  {
   "cell_type": "code",
   "execution_count": 3,
   "metadata": {},
   "outputs": [
    {
     "data": {
      "text/html": [
       "<div>\n",
       "<style scoped>\n",
       "    .dataframe tbody tr th:only-of-type {\n",
       "        vertical-align: middle;\n",
       "    }\n",
       "\n",
       "    .dataframe tbody tr th {\n",
       "        vertical-align: top;\n",
       "    }\n",
       "\n",
       "    .dataframe thead th {\n",
       "        text-align: right;\n",
       "    }\n",
       "</style>\n",
       "<table border=\"1\" class=\"dataframe\">\n",
       "  <thead>\n",
       "    <tr style=\"text-align: right;\">\n",
       "      <th></th>\n",
       "      <th>Caption</th>\n",
       "      <th>Alert_Type</th>\n",
       "      <th>Relevant</th>\n",
       "      <th>Bryce</th>\n",
       "    </tr>\n",
       "  </thead>\n",
       "  <tbody>\n",
       "    <tr>\n",
       "      <th>0</th>\n",
       "      <td>protest scheduled for # on plaza de la constit...</td>\n",
       "      <td>Alert</td>\n",
       "      <td>Relevant</td>\n",
       "      <td>False</td>\n",
       "    </tr>\n",
       "    <tr>\n",
       "      <th>1</th>\n",
       "      <td>protest blocks road at intersection of laurean...</td>\n",
       "      <td>Alert</td>\n",
       "      <td>Relevant</td>\n",
       "      <td>True</td>\n",
       "    </tr>\n",
       "    <tr>\n",
       "      <th>2</th>\n",
       "      <td>demonstration crowds area in ufa republic of b...</td>\n",
       "      <td>Alert</td>\n",
       "      <td>Relevant</td>\n",
       "      <td>True</td>\n",
       "    </tr>\n",
       "    <tr>\n",
       "      <th>3</th>\n",
       "      <td>protesters face off against police in front of...</td>\n",
       "      <td>Alert</td>\n",
       "      <td>Relevant</td>\n",
       "      <td>True</td>\n",
       "    </tr>\n",
       "    <tr>\n",
       "      <th>4</th>\n",
       "      <td>protest scheduled for march # at # in # cities...</td>\n",
       "      <td>Alert</td>\n",
       "      <td>Relevant</td>\n",
       "      <td>True</td>\n",
       "    </tr>\n",
       "  </tbody>\n",
       "</table>\n",
       "</div>"
      ],
      "text/plain": [
       "                                             Caption Alert_Type  Relevant  \\\n",
       "0  protest scheduled for # on plaza de la constit...      Alert  Relevant   \n",
       "1  protest blocks road at intersection of laurean...      Alert  Relevant   \n",
       "2  demonstration crowds area in ufa republic of b...      Alert  Relevant   \n",
       "3  protesters face off against police in front of...      Alert  Relevant   \n",
       "4  protest scheduled for march # at # in # cities...      Alert  Relevant   \n",
       "\n",
       "   Bryce  \n",
       "0  False  \n",
       "1   True  \n",
       "2   True  \n",
       "3   True  \n",
       "4   True  "
      ]
     },
     "execution_count": 3,
     "metadata": {},
     "output_type": "execute_result"
    }
   ],
   "source": [
    "df.head()"
   ]
  },
  {
   "cell_type": "code",
   "execution_count": 4,
   "metadata": {},
   "outputs": [
    {
     "data": {
      "text/plain": [
       "False    1223\n",
       "True      301\n",
       "Name: Bryce, dtype: int64"
      ]
     },
     "execution_count": 4,
     "metadata": {},
     "output_type": "execute_result"
    }
   ],
   "source": [
    "df['Bryce'].value_counts()"
   ]
  },
  {
   "cell_type": "code",
   "execution_count": 5,
   "metadata": {},
   "outputs": [
    {
     "data": {
      "text/plain": [
       "'four police officers seriously injured and one arrested during protest at istana negara in jakarta indonesia'"
      ]
     },
     "execution_count": 5,
     "metadata": {},
     "output_type": "execute_result"
    }
   ],
   "source": [
    "df['Caption'][10]"
   ]
  },
  {
   "attachments": {},
   "cell_type": "markdown",
   "metadata": {},
   "source": [
    "## Tokenize Captions"
   ]
  },
  {
   "cell_type": "code",
   "execution_count": 9,
   "metadata": {},
   "outputs": [],
   "source": [
    "# Tokenize (also removes punctuation and makes everything lowercase)\n",
    "def tokenize(page):\n",
    "    tokens = nltk.word_tokenize(page)\n",
    "    return tokens"
   ]
  },
  {
   "cell_type": "code",
   "execution_count": 10,
   "metadata": {},
   "outputs": [],
   "source": [
    "df['caption_tokens'] = df['Caption'].apply(tokenize)"
   ]
  },
  {
   "attachments": {},
   "cell_type": "markdown",
   "metadata": {},
   "source": [
    "## Needle in a haystack"
   ]
  },
  {
   "cell_type": "code",
   "execution_count": 1,
   "metadata": {},
   "outputs": [],
   "source": [
    "#Import packages\n",
    "import pandas as pd\n",
    "import numpy as np\n",
    "import matplotlib.pyplot as plt\n",
    "import seaborn as sns\n",
    "\n",
    "import os\n",
    "import string\n",
    "import nltk\n",
    "import re\n",
    "\n",
    "from sklearn.feature_extraction.text import TfidfVectorizer,CountVectorizer\n",
    "from sklearn.model_selection import train_test_split\n",
    "from sklearn import metrics\n",
    "from sklearn.metrics.pairwise import cosine_similarity\n",
    "from sklearn.decomposition import PCA\n",
    "from sklearn.cluster import KMeans\n",
    "\n",
    "#Topic Modeling\n",
    "from sklearn.decomposition import LatentDirichletAllocation as LDA"
   ]
  },
  {
   "cell_type": "code",
   "execution_count": 38,
   "metadata": {},
   "outputs": [],
   "source": [
    "dirname = \"C:\\\\Users\\\\hlmq\\\\OneDrive - Chevron\\\\Desktop\\\\Projects\\\\Chevron Survey\\\\Input_Data\\\\\"\n",
    "\n",
    "#filename = \"Teaming Comments.csv\"\n",
    "filename = \"Speak My Mind Comments.csv\"\n",
    "\n",
    "df = pd.read_csv(str(dirname)+str(filename))"
   ]
  },
  {
   "cell_type": "code",
   "execution_count": 39,
   "metadata": {},
   "outputs": [],
   "source": [
    "# Helper functions\n",
    "def print_topics(model, count_vectorizer, n_top_words) -> str:\n",
    "    words = count_vectorizer.get_feature_names()\n",
    "    for topic_idx, topic in enumerate(model.components_):\n",
    "        print(\"\\nTopic #%d:\" % topic_idx)\n",
    "        print(\" \".join([words[i] for i in topic.argsort()[:-n_top_words - 1:-1]]))"
   ]
  },
  {
   "cell_type": "code",
   "execution_count": 40,
   "metadata": {},
   "outputs": [
    {
     "name": "stderr",
     "output_type": "stream",
     "text": [
      "c:\\ProgramData\\Miniconda3\\envs\\nlp_testing\\lib\\site-packages\\sklearn\\utils\\deprecation.py:87: FutureWarning: Function get_feature_names is deprecated; get_feature_names is deprecated in 1.0 and will be removed in 1.2. Please use get_feature_names_out instead.\n",
      "  warnings.warn(msg, category=FutureWarning)\n"
     ]
    }
   ],
   "source": [
    "# TF-IDF, Cosine Similarity, Principal Components\n",
    "\n",
    "# Term Frequency / Inverse Document Frequency creation\n",
    "vectorizer = TfidfVectorizer()\n",
    "vectors = vectorizer.fit_transform(df['Text'])\n",
    "feature_names = vectorizer.get_feature_names()\n",
    "dense = vectors.todense()\n",
    "denselist = dense.tolist()\n",
    "\n",
    "df_TFIDF = pd.DataFrame(denselist, columns=feature_names)\n",
    "\n",
    "# Compute cosine similarity between rows\n",
    "simRes = cosine_similarity(df_TFIDF)\n",
    "\n",
    "# Principal Components to reduce dimensions to 2\n",
    "dr = PCA(n_components=2)\n",
    "pcaDF = pd.DataFrame(dr.fit_transform(simRes))\n",
    "\n",
    "\n",
    "dense_df = pd.DataFrame(dense,columns = feature_names)"
   ]
  },
  {
   "cell_type": "code",
   "execution_count": 42,
   "metadata": {},
   "outputs": [
    {
     "data": {
      "text/plain": [
       "Text(0.5, 1.0, 'KMeans Cluster of Cosine Similarity on Observations')"
      ]
     },
     "execution_count": 42,
     "metadata": {},
     "output_type": "execute_result"
    },
    {
     "data": {
      "image/png": "[encoded data removed]",
      "text/plain": [
       "<Figure size 1000x600 with 1 Axes>"
      ]
     },
     "metadata": {},
     "output_type": "display_data"
    }
   ],
   "source": [
    "# Fit KMeans clustering algorithm\n",
    "n_clus = 5\n",
    "\n",
    "# Cluster analysis on cosine similarity dataset leveraging Principal Componenets\n",
    "kmeans = KMeans(n_clusters=n_clus).fit(pcaDF)\n",
    "\n",
    "# Plot results\n",
    "fig = plt.figure()\n",
    "fig.set_size_inches(10, 6)\n",
    "\n",
    "for i in range(0,n_clus):\n",
    "    plt.scatter(pcaDF.loc[kmeans.labels_ == i, 0], pcaDF.loc[kmeans.labels_ == i, 1], label='Group '+ str(i))\n",
    "\n",
    "plt.legend()\n",
    "plt.title(\"KMeans Cluster of Cosine Similarity on Observations\")"
   ]
  },
  {
   "attachments": {},
   "cell_type": "markdown",
   "metadata": {},
   "source": [
    "## Post-Hoc Analysis"
   ]
  },
  {
   "cell_type": "code",
   "execution_count": 43,
   "metadata": {},
   "outputs": [],
   "source": [
    "# What cluster would you like to investigate?\n",
    "\n",
    "group_number = 1"
   ]
  },
  {
   "cell_type": "code",
   "execution_count": 60,
   "metadata": {},
   "outputs": [
    {
     "name": "stderr",
     "output_type": "stream",
     "text": [
      "C:\\Users\\hlmq\\AppData\\Local\\Temp\\ipykernel_18080\\3424556031.py:15: SettingWithCopyWarning: \n",
      "A value is trying to be set on a copy of a slice from a DataFrame\n",
      "\n",
      "See the caveats in the documentation: https://pandas.pydata.org/pandas-docs/stable/user_guide/indexing.html#returning-a-view-versus-a-copy\n",
      "  check.sort_values(\"similarity_score\", inplace=True, ascending=False)\n"
     ]
    },
    {
     "data": {
      "text/html": [
       "<div>\n",
       "<style scoped>\n",
       "    .dataframe tbody tr th:only-of-type {\n",
       "        vertical-align: middle;\n",
       "    }\n",
       "\n",
       "    .dataframe tbody tr th {\n",
       "        vertical-align: top;\n",
       "    }\n",
       "\n",
       "    .dataframe thead th {\n",
       "        text-align: right;\n",
       "    }\n",
       "</style>\n",
       "<table border=\"1\" class=\"dataframe\">\n",
       "  <thead>\n",
       "    <tr style=\"text-align: right;\">\n",
       "      <th></th>\n",
       "      <th>Text</th>\n",
       "      <th>cluster</th>\n",
       "      <th>similarity_score</th>\n",
       "    </tr>\n",
       "  </thead>\n",
       "  <tbody>\n",
       "    <tr>\n",
       "      <th>4</th>\n",
       "      <td>I have observed people speak up in meetings ca...</td>\n",
       "      <td>1</td>\n",
       "      <td>1.000000</td>\n",
       "    </tr>\n",
       "    <tr>\n",
       "      <th>75</th>\n",
       "      <td>I see members of my team who speak up being pe...</td>\n",
       "      <td>1</td>\n",
       "      <td>0.244696</td>\n",
       "    </tr>\n",
       "    <tr>\n",
       "      <th>72</th>\n",
       "      <td>Again, it depends. In my current organization ...</td>\n",
       "      <td>1</td>\n",
       "      <td>0.175195</td>\n",
       "    </tr>\n",
       "    <tr>\n",
       "      <th>8</th>\n",
       "      <td>As I said in the last survey, I will not speak...</td>\n",
       "      <td>1</td>\n",
       "      <td>0.173443</td>\n",
       "    </tr>\n",
       "    <tr>\n",
       "      <th>40</th>\n",
       "      <td>I believe the leader set the tone of this. In ...</td>\n",
       "      <td>1</td>\n",
       "      <td>0.170512</td>\n",
       "    </tr>\n",
       "    <tr>\n",
       "      <th>91</th>\n",
       "      <td>I do see a reluctance of some people to speak ...</td>\n",
       "      <td>1</td>\n",
       "      <td>0.158725</td>\n",
       "    </tr>\n",
       "    <tr>\n",
       "      <th>156</th>\n",
       "      <td>I feel I can openly speak to my direct supervi...</td>\n",
       "      <td>1</td>\n",
       "      <td>0.156005</td>\n",
       "    </tr>\n",
       "    <tr>\n",
       "      <th>228</th>\n",
       "      <td>Absolutey not, nor do my peers or people I men...</td>\n",
       "      <td>1</td>\n",
       "      <td>0.150658</td>\n",
       "    </tr>\n",
       "    <tr>\n",
       "      <th>232</th>\n",
       "      <td>This is not reflective of my current team, but...</td>\n",
       "      <td>1</td>\n",
       "      <td>0.139685</td>\n",
       "    </tr>\n",
       "    <tr>\n",
       "      <th>198</th>\n",
       "      <td>I specifically do not speak my mind out of fea...</td>\n",
       "      <td>1</td>\n",
       "      <td>0.128101</td>\n",
       "    </tr>\n",
       "    <tr>\n",
       "      <th>161</th>\n",
       "      <td>In conversations about my work, yes.  I can sp...</td>\n",
       "      <td>1</td>\n",
       "      <td>0.126166</td>\n",
       "    </tr>\n",
       "    <tr>\n",
       "      <th>50</th>\n",
       "      <td>I do feel free in some matters. I am asked oft...</td>\n",
       "      <td>1</td>\n",
       "      <td>0.118412</td>\n",
       "    </tr>\n",
       "    <tr>\n",
       "      <th>54</th>\n",
       "      <td>In almost all cases, yes. There's an individua...</td>\n",
       "      <td>1</td>\n",
       "      <td>0.115810</td>\n",
       "    </tr>\n",
       "    <tr>\n",
       "      <th>37</th>\n",
       "      <td>I feel I can speak my mind but still fear the ...</td>\n",
       "      <td>1</td>\n",
       "      <td>0.114967</td>\n",
       "    </tr>\n",
       "    <tr>\n",
       "      <th>179</th>\n",
       "      <td>The more I speak up, the more work that lands ...</td>\n",
       "      <td>1</td>\n",
       "      <td>0.113769</td>\n",
       "    </tr>\n",
       "    <tr>\n",
       "      <th>36</th>\n",
       "      <td>I used to, but of late with new leadership in ...</td>\n",
       "      <td>1</td>\n",
       "      <td>0.110675</td>\n",
       "    </tr>\n",
       "    <tr>\n",
       "      <th>44</th>\n",
       "      <td>I used to speak my mind without fear of conseq...</td>\n",
       "      <td>1</td>\n",
       "      <td>0.110180</td>\n",
       "    </tr>\n",
       "    <tr>\n",
       "      <th>19</th>\n",
       "      <td>Do not feel free to speak my mind. Leadership ...</td>\n",
       "      <td>1</td>\n",
       "      <td>0.108236</td>\n",
       "    </tr>\n",
       "    <tr>\n",
       "      <th>120</th>\n",
       "      <td>We have a new leadership staff in the SJV (ope...</td>\n",
       "      <td>1</td>\n",
       "      <td>0.098786</td>\n",
       "    </tr>\n",
       "    <tr>\n",
       "      <th>53</th>\n",
       "      <td>More than once I have kept my thoughts to myse...</td>\n",
       "      <td>1</td>\n",
       "      <td>0.093610</td>\n",
       "    </tr>\n",
       "    <tr>\n",
       "      <th>86</th>\n",
       "      <td>Will never feel free to speak my mind to any s...</td>\n",
       "      <td>1</td>\n",
       "      <td>0.087243</td>\n",
       "    </tr>\n",
       "    <tr>\n",
       "      <th>149</th>\n",
       "      <td>With recent management changes in MCBU this ha...</td>\n",
       "      <td>1</td>\n",
       "      <td>0.086176</td>\n",
       "    </tr>\n",
       "    <tr>\n",
       "      <th>144</th>\n",
       "      <td>Yes, as long as my opinion falls in-line with ...</td>\n",
       "      <td>1</td>\n",
       "      <td>0.083916</td>\n",
       "    </tr>\n",
       "    <tr>\n",
       "      <th>221</th>\n",
       "      <td>I am comfortable speaking my mind but realize ...</td>\n",
       "      <td>1</td>\n",
       "      <td>0.079667</td>\n",
       "    </tr>\n",
       "    <tr>\n",
       "      <th>51</th>\n",
       "      <td>With my supervisor I do, he fostered a great e...</td>\n",
       "      <td>1</td>\n",
       "      <td>0.067485</td>\n",
       "    </tr>\n",
       "    <tr>\n",
       "      <th>159</th>\n",
       "      <td>I feel free to speak my mind, unfortunately so...</td>\n",
       "      <td>1</td>\n",
       "      <td>0.062329</td>\n",
       "    </tr>\n",
       "    <tr>\n",
       "      <th>87</th>\n",
       "      <td>I feel free to speak my mind only if it's in l...</td>\n",
       "      <td>1</td>\n",
       "      <td>0.062161</td>\n",
       "    </tr>\n",
       "    <tr>\n",
       "      <th>79</th>\n",
       "      <td>I'm not willing to allow fear to keep me from ...</td>\n",
       "      <td>1</td>\n",
       "      <td>0.060197</td>\n",
       "    </tr>\n",
       "    <tr>\n",
       "      <th>93</th>\n",
       "      <td>I've seen retaliation in the past from other p...</td>\n",
       "      <td>1</td>\n",
       "      <td>0.052387</td>\n",
       "    </tr>\n",
       "    <tr>\n",
       "      <th>102</th>\n",
       "      <td>I feel like the culture at Chevron is still ve...</td>\n",
       "      <td>1</td>\n",
       "      <td>0.044951</td>\n",
       "    </tr>\n",
       "    <tr>\n",
       "      <th>148</th>\n",
       "      <td>With Quang Ho as my supervisor, I feel that I ...</td>\n",
       "      <td>1</td>\n",
       "      <td>0.043551</td>\n",
       "    </tr>\n",
       "    <tr>\n",
       "      <th>193</th>\n",
       "      <td>But only to my supervisor.  Above that I don't...</td>\n",
       "      <td>1</td>\n",
       "      <td>0.038645</td>\n",
       "    </tr>\n",
       "    <tr>\n",
       "      <th>98</th>\n",
       "      <td>I don't fear negative consequences as I don't ...</td>\n",
       "      <td>1</td>\n",
       "      <td>0.035413</td>\n",
       "    </tr>\n",
       "    <tr>\n",
       "      <th>225</th>\n",
       "      <td>When it's done constructively and not as a per...</td>\n",
       "      <td>1</td>\n",
       "      <td>0.033348</td>\n",
       "    </tr>\n",
       "    <tr>\n",
       "      <th>77</th>\n",
       "      <td>This is still a journey because this is requir...</td>\n",
       "      <td>1</td>\n",
       "      <td>0.030400</td>\n",
       "    </tr>\n",
       "  </tbody>\n",
       "</table>\n",
       "</div>"
      ],
      "text/plain": [
       "                                                  Text  cluster  \\\n",
       "4    I have observed people speak up in meetings ca...        1   \n",
       "75   I see members of my team who speak up being pe...        1   \n",
       "72   Again, it depends. In my current organization ...        1   \n",
       "8    As I said in the last survey, I will not speak...        1   \n",
       "40   I believe the leader set the tone of this. In ...        1   \n",
       "91   I do see a reluctance of some people to speak ...        1   \n",
       "156  I feel I can openly speak to my direct supervi...        1   \n",
       "228  Absolutey not, nor do my peers or people I men...        1   \n",
       "232  This is not reflective of my current team, but...        1   \n",
       "198  I specifically do not speak my mind out of fea...        1   \n",
       "161  In conversations about my work, yes.  I can sp...        1   \n",
       "50   I do feel free in some matters. I am asked oft...        1   \n",
       "54   In almost all cases, yes. There's an individua...        1   \n",
       "37   I feel I can speak my mind but still fear the ...        1   \n",
       "179  The more I speak up, the more work that lands ...        1   \n",
       "36   I used to, but of late with new leadership in ...        1   \n",
       "44   I used to speak my mind without fear of conseq...        1   \n",
       "19   Do not feel free to speak my mind. Leadership ...        1   \n",
       "120  We have a new leadership staff in the SJV (ope...        1   \n",
       "53   More than once I have kept my thoughts to myse...        1   \n",
       "86   Will never feel free to speak my mind to any s...        1   \n",
       "149  With recent management changes in MCBU this ha...        1   \n",
       "144  Yes, as long as my opinion falls in-line with ...        1   \n",
       "221  I am comfortable speaking my mind but realize ...        1   \n",
       "51   With my supervisor I do, he fostered a great e...        1   \n",
       "159  I feel free to speak my mind, unfortunately so...        1   \n",
       "87   I feel free to speak my mind only if it's in l...        1   \n",
       "79   I'm not willing to allow fear to keep me from ...        1   \n",
       "93   I've seen retaliation in the past from other p...        1   \n",
       "102  I feel like the culture at Chevron is still ve...        1   \n",
       "148  With Quang Ho as my supervisor, I feel that I ...        1   \n",
       "193  But only to my supervisor.  Above that I don't...        1   \n",
       "98   I don't fear negative consequences as I don't ...        1   \n",
       "225  When it's done constructively and not as a per...        1   \n",
       "77   This is still a journey because this is requir...        1   \n",
       "\n",
       "     similarity_score  \n",
       "4            1.000000  \n",
       "75           0.244696  \n",
       "72           0.175195  \n",
       "8            0.173443  \n",
       "40           0.170512  \n",
       "91           0.158725  \n",
       "156          0.156005  \n",
       "228          0.150658  \n",
       "232          0.139685  \n",
       "198          0.128101  \n",
       "161          0.126166  \n",
       "50           0.118412  \n",
       "54           0.115810  \n",
       "37           0.114967  \n",
       "179          0.113769  \n",
       "36           0.110675  \n",
       "44           0.110180  \n",
       "19           0.108236  \n",
       "120          0.098786  \n",
       "53           0.093610  \n",
       "86           0.087243  \n",
       "149          0.086176  \n",
       "144          0.083916  \n",
       "221          0.079667  \n",
       "51           0.067485  \n",
       "159          0.062329  \n",
       "87           0.062161  \n",
       "79           0.060197  \n",
       "93           0.052387  \n",
       "102          0.044951  \n",
       "148          0.043551  \n",
       "193          0.038645  \n",
       "98           0.035413  \n",
       "225          0.033348  \n",
       "77           0.030400  "
      ]
     },
     "execution_count": 60,
     "metadata": {},
     "output_type": "execute_result"
    }
   ],
   "source": [
    "# Show Dataframe \n",
    "\n",
    "df['cluster'] = kmeans.labels_\n",
    "\n",
    "check = df[df['cluster']==group_number]\n",
    "\n",
    "index_position = check.index.values.astype(int)[0]\n",
    "\n",
    "del check\n",
    "\n",
    "df['similarity_score'] = simRes[index_position]\n",
    "\n",
    "check = df[df['cluster']==group_number]\n",
    "\n",
    "check.sort_values(\"similarity_score\", inplace=True, ascending=False)\n",
    "\n",
    "#  Show DataFrame\n",
    "check"
   ]
  },
  {
   "attachments": {},
   "cell_type": "markdown",
   "metadata": {},
   "source": [
    "## Clean Text"
   ]
  },
  {
   "cell_type": "code",
   "execution_count": 61,
   "metadata": {},
   "outputs": [],
   "source": [
    "from nltk.corpus import stopwords\n",
    "from nltk.stem import WordNetLemmatizer"
   ]
  },
  {
   "cell_type": "code",
   "execution_count": 62,
   "metadata": {},
   "outputs": [],
   "source": [
    "\n",
    "# DEFINING VARIABLES FOR CLEANING\n",
    "\n",
    "# List of stopwords\n",
    "newStopWords = ['ourselves', 'here', 'between', 'yourself', 'but', 'again', 'there', 'about', 'once', 'during', 'out', 'very', 'having', \n",
    "                'with', 'they', 'own', 'an', 'be', 'some', 'for', 'do', 'its', 'yours', 'such', 'into', 'of', 'most', 'itself', 'other', \n",
    "                'off', 'is', 's', 'am', 'or', 'who', 'as', 'from', 'him', 'each', 'the', 'themselves', 'until', 'below', 'are', 'we', \n",
    "                'these', 'your', 'his', 'through', 'don', 'nor', 'me', 'were', 'her', 'more', 'himself', 'this', 'down', 'should', \n",
    "                'our', 'their', 'while', 'above', 'both', 'up', 'to', 'ours', 'had', 'she', 'all', 'no', 'when', 'at', 'any', 'before', \n",
    "                'them', 'same', 'and', 'been', 'have', 'in', 'will', 'on', 'does', 'yourselves', 'then', 'that', 'because', 'what', \n",
    "                'over', 'why', 'so', 'can', 'did', 'not', 'now', 'under', 'he', 'you', 'herself', 'has', 'just', 'where', 'too', 'only', \n",
    "                'myself', 'which', 'those', 'i', 'I','after', 'few', 'whom', 'being', 'if', 'theirs', 'my', 'against','a', 'by', 'doing', \n",
    "                'it', 'how', 'further', 'was', 'here','than','can', 'let', 'll',\n",
    "                # Chevron specific items added below:\n",
    "                'chevron', \"corporation\", \"quarter\", \"financial\", 'review', 'release', 'pdt',\n",
    "                'net','per','2015','2016','2017','2018', '2019', '2020', '2021', '2022','year', 'day'\n",
    "               ]\n",
    "\n",
    "stopwords = nltk.corpus.stopwords.words('english')\n",
    "stopwords.extend(newStopWords)\n",
    "\n",
    "# [Blank] Dictionary of contractions\n",
    "contractions_dictionary = {}\n",
    "# Notes:\n",
    "#   Will need a dictionary of contractions and their \"real\" words\n",
    "\n",
    "# List of special characters FOR REMOVAL\n",
    "special_characters = ['!','@','|','`','','.',',',':',';',\"'\", '-','(',')', '*']\n",
    "# Notes:\n",
    "#   If you want to remove digits, do it in this list!!\n",
    "\n",
    "# [Blank] List of accented characters FOR REMOVAL\n",
    "accented_characters = []"
   ]
  },
  {
   "cell_type": "code",
   "execution_count": 63,
   "metadata": {},
   "outputs": [],
   "source": [
    "\n",
    "# FUNCTION: Iterate through numPages to provide single list of all page numbers\n",
    "def flatten(pageNum):\n",
    "    return [item for sublist in pageNum for item in sublist]\n",
    "\n",
    "# FUNCTION: Steps in the cleaning process. Used in cleaning_operations function below.\n",
    "\n",
    "def strip_html_tags(page):\n",
    "    pass\n",
    "\n",
    "def remove_accented_chars(page, accented_characters):\n",
    "    pass\n",
    "\n",
    "def expand_contractions(page, contractions_dictionary):\n",
    "    pass\n",
    "\n",
    "def remove_special_characters(page, special_characters):\n",
    "    page = [word for word in page if word not in special_characters]\n",
    "    return page\n",
    "\n",
    "def lemmatize_text(page):\n",
    "    lemmatizer = WordNetLemmatizer()\n",
    "    page = [lemmatizer.lemmatize(word, pos='v') for word in page]\n",
    "    return page\n",
    "\n",
    "def remove_stopwords(page, stopwords):\n",
    "    page = [word for word in page if word not in stopwords]\n",
    "    return page\n",
    "\n",
    "def spell_check():\n",
    "    pass\n",
    "\n",
    "# Tokenize (also removes punctuation and makes everything lowercase)\n",
    "def tokenize(page):\n",
    "    tokens = nltk.word_tokenize(page)\n",
    "    return tokens\n",
    "\n",
    "def special_operations(page):\n",
    "    page = [line.strip().split(' ') for line in page]\n",
    "#    page = page.replace(\"      \",\"\")\n",
    "#    page = page.replace(\"  \",\",\")\n",
    "#    page = page.replace(\" \",\"\")\n",
    "#    page = page.replace(\"\\n\",\"\")\n",
    "    return page"
   ]
  },
  {
   "cell_type": "code",
   "execution_count": 64,
   "metadata": {},
   "outputs": [],
   "source": [
    "# FUNCTION: Actually perform cleaning operations\n",
    "def cleaning_operations(corpus, stopwords, special_characters, accented_characters, contractions_dictionary,\n",
    "                     html_stripping=False, \n",
    "                     contraction_expansion=False,\n",
    "                     accented_char_removal=False, \n",
    "                     text_lower_case=True, \n",
    "                     special_char_removal=True,\n",
    "                     stopword_removal=True,\n",
    "                     text_lemmatization=True,\n",
    "                     remove_digits=False, \n",
    "                     tokens = True,\n",
    "                     special_doc_operations = False,\n",
    "                     spelling_correction = False):\n",
    "\n",
    "    \"\"\"\n",
    "    Need to modify True/False above depending on needs \n",
    "\n",
    "    \"\"\"\n",
    "\n",
    "\n",
    "\n",
    "    normalized_corpus = []\n",
    "\n",
    "    # normalize each document in the corpus\n",
    "\n",
    "    for doc in corpus:\n",
    "\n",
    "        # tokenize the words\n",
    "        if tokens:\n",
    "            doc = tokenize(doc)\n",
    "            \n",
    "        # lowercase the text    \n",
    "        if text_lower_case:\n",
    "            doc = [x.lower() for x in doc]\n",
    "            \n",
    "        # remove stopwords\n",
    "        if stopword_removal:\n",
    "            doc = remove_stopwords(doc, stopwords)\n",
    "        \n",
    "        # strip HTML\n",
    "        if html_stripping:\n",
    "            doc = strip_html_tags(doc)\n",
    "\n",
    "        # remove accented characters\n",
    "        if accented_char_removal:\n",
    "            doc = remove_accented_chars(doc, accented_characters)\n",
    "\n",
    "        # expand contractions    \n",
    "        if contraction_expansion:\n",
    "            doc = expand_contractions(doc, contractions_dictionary)   \n",
    "\n",
    "        # remove special characters\n",
    "        if special_char_removal:\n",
    "            doc = remove_special_characters(doc, special_characters)  \n",
    "\n",
    "        # remove newlines   \n",
    "        if special_doc_operations:\n",
    "            doc = special_operations(doc)\n",
    "            \n",
    "        # lemmatize text\n",
    "        if text_lemmatization:\n",
    "            doc = lemmatize_text(doc)\n",
    "            \n",
    "        # Spell check\n",
    "        if spelling_correction:\n",
    "            doc = spell_check(doc)\n",
    "            \n",
    "        ## put it all together\n",
    "        normalized_corpus.append(doc)\n",
    "  \n",
    "    return normalized_corpus"
   ]
  },
  {
   "cell_type": "code",
   "execution_count": 65,
   "metadata": {},
   "outputs": [
    {
     "name": "stderr",
     "output_type": "stream",
     "text": [
      "C:\\Users\\hlmq\\AppData\\Local\\Temp\\ipykernel_18080\\2379819906.py:2: SettingWithCopyWarning: \n",
      "A value is trying to be set on a copy of a slice from a DataFrame.\n",
      "Try using .loc[row_indexer,col_indexer] = value instead\n",
      "\n",
      "See the caveats in the documentation: https://pandas.pydata.org/pandas-docs/stable/user_guide/indexing.html#returning-a-view-versus-a-copy\n",
      "  check['Text'] = cleaning_operations(check['Text'], stopwords, special_characters, accented_characters, contractions_dictionary)\n"
     ]
    }
   ],
   "source": [
    "# NORMALIZE EACH OBSERVATION\n",
    "check['Text'] = cleaning_operations(check['Text'], stopwords, special_characters, accented_characters, contractions_dictionary)"
   ]
  },
  {
   "cell_type": "code",
   "execution_count": 66,
   "metadata": {},
   "outputs": [],
   "source": [
    "def join_list(data):\n",
    "    return \" \".join(data)"
   ]
  },
  {
   "cell_type": "code",
   "execution_count": 67,
   "metadata": {},
   "outputs": [
    {
     "name": "stderr",
     "output_type": "stream",
     "text": [
      "C:\\Users\\hlmq\\AppData\\Local\\Temp\\ipykernel_18080\\4189165969.py:1: SettingWithCopyWarning: \n",
      "A value is trying to be set on a copy of a slice from a DataFrame.\n",
      "Try using .loc[row_indexer,col_indexer] = value instead\n",
      "\n",
      "See the caveats in the documentation: https://pandas.pydata.org/pandas-docs/stable/user_guide/indexing.html#returning-a-view-versus-a-copy\n",
      "  check[\"Text\"] = check['Text'].apply(join_list)\n"
     ]
    }
   ],
   "source": [
    "check[\"Text\"] = check['Text'].apply(join_list)"
   ]
  },
  {
   "cell_type": "code",
   "execution_count": 68,
   "metadata": {},
   "outputs": [
    {
     "data": {
      "text/html": [
       "<div>\n",
       "<style scoped>\n",
       "    .dataframe tbody tr th:only-of-type {\n",
       "        vertical-align: middle;\n",
       "    }\n",
       "\n",
       "    .dataframe tbody tr th {\n",
       "        vertical-align: top;\n",
       "    }\n",
       "\n",
       "    .dataframe thead th {\n",
       "        text-align: right;\n",
       "    }\n",
       "</style>\n",
       "<table border=\"1\" class=\"dataframe\">\n",
       "  <thead>\n",
       "    <tr style=\"text-align: right;\">\n",
       "      <th></th>\n",
       "      <th>Text</th>\n",
       "      <th>cluster</th>\n",
       "      <th>similarity_score</th>\n",
       "    </tr>\n",
       "  </thead>\n",
       "  <tbody>\n",
       "    <tr>\n",
       "      <th>4</th>\n",
       "      <td>observe people speak meet lead confrontation [...</td>\n",
       "      <td>1</td>\n",
       "      <td>1.000000</td>\n",
       "    </tr>\n",
       "    <tr>\n",
       "      <th>75</th>\n",
       "      <td>see members team speak perceive 'as difficult ...</td>\n",
       "      <td>1</td>\n",
       "      <td>0.244696</td>\n",
       "    </tr>\n",
       "    <tr>\n",
       "      <th>72</th>\n",
       "      <td>depend current organization feel safe part fun...</td>\n",
       "      <td>1</td>\n",
       "      <td>0.175195</td>\n",
       "    </tr>\n",
       "    <tr>\n",
       "      <th>8</th>\n",
       "      <td>say last survey speak personal opinions politi...</td>\n",
       "      <td>1</td>\n",
       "      <td>0.173443</td>\n",
       "    </tr>\n",
       "    <tr>\n",
       "      <th>40</th>\n",
       "      <td>believe leader set tone current position know ...</td>\n",
       "      <td>1</td>\n",
       "      <td>0.170512</td>\n",
       "    </tr>\n",
       "  </tbody>\n",
       "</table>\n",
       "</div>"
      ],
      "text/plain": [
       "                                                 Text  cluster  \\\n",
       "4   observe people speak meet lead confrontation [...        1   \n",
       "75  see members team speak perceive 'as difficult ...        1   \n",
       "72  depend current organization feel safe part fun...        1   \n",
       "8   say last survey speak personal opinions politi...        1   \n",
       "40  believe leader set tone current position know ...        1   \n",
       "\n",
       "    similarity_score  \n",
       "4           1.000000  \n",
       "75          0.244696  \n",
       "72          0.175195  \n",
       "8           0.173443  \n",
       "40          0.170512  "
      ]
     },
     "execution_count": 68,
     "metadata": {},
     "output_type": "execute_result"
    }
   ],
   "source": [
    "check.head()"
   ]
  },
  {
   "cell_type": "code",
   "execution_count": 69,
   "metadata": {},
   "outputs": [
    {
     "name": "stderr",
     "output_type": "stream",
     "text": [
      "c:\\ProgramData\\Miniconda3\\envs\\nlp_testing\\lib\\site-packages\\sklearn\\utils\\deprecation.py:87: FutureWarning: Function get_feature_names is deprecated; get_feature_names is deprecated in 1.0 and will be removed in 1.2. Please use get_feature_names_out instead.\n",
      "  warnings.warn(msg, category=FutureWarning)\n"
     ]
    },
    {
     "name": "stdout",
     "output_type": "stream",
     "text": [
      "Topics found via LDA:\n",
      "\n",
      "Topic #0:\n",
      "speak speak mind mind feel supervisor team fear meet opinions however\n",
      "\n",
      "Topic #1:\n",
      "speak feel speak mind mind consequences negative consequences negative fear free speak feel free speak\n",
      "\n",
      "Topic #2:\n",
      "speak feel speak mind mind consequences people bu negative negative consequences still\n"
     ]
    }
   ],
   "source": [
    "# LDA Modeling\n",
    "\n",
    "#Create DTM\n",
    "cv = CountVectorizer(ngram_range = (1,3))\n",
    "dtm = cv.fit_transform(check['Text'])\n",
    "words = np.array(cv.get_feature_names())\n",
    "\n",
    "#Parameters\n",
    "\n",
    "number_topics = 3\n",
    "number_words = 10\n",
    "\n",
    "# Create and fit the LDA model\n",
    "lda = LDA(n_components=number_topics, n_jobs=-1, random_state=123)\n",
    "lda.fit(dtm)\n",
    "# Print the topics found by the LDA model\n",
    "print(\"Topics found via LDA:\")\n",
    "print_topics(lda, cv, number_words)\n",
    "#print_topics()"
   ]
  },
  {
   "cell_type": "code",
   "execution_count": 70,
   "metadata": {},
   "outputs": [
    {
     "data": {
      "text/plain": [
       "array([0.98923213, 0.00540477, 0.0053631 ])"
      ]
     },
     "execution_count": 70,
     "metadata": {},
     "output_type": "execute_result"
    }
   ],
   "source": [
    "# Check what topic each document is most similar to\n",
    "doc_topic_distrib = lda.transform(dtm)\n",
    "doc_topic_distrib[-1]"
   ]
  },
  {
   "cell_type": "code",
   "execution_count": 71,
   "metadata": {},
   "outputs": [
    {
     "data": {
      "text/plain": [
       "Text(0.5, 1.0, 'Most Common Words from this Subject')"
      ]
     },
     "execution_count": 71,
     "metadata": {},
     "output_type": "execute_result"
    },
    {
     "data": {
      "image/png": "[encoded data removed]",
      "text/plain": [
       "<Figure size 500x500 with 1 Axes>"
      ]
     },
     "metadata": {},
     "output_type": "display_data"
    }
   ],
   "source": [
    "# CountWordFrequency\n",
    "\n",
    "#Create DTM\n",
    "cv = CountVectorizer(ngram_range = (2,3), stop_words='english')\n",
    "dtm = cv.fit_transform(check['Text'])\n",
    "words = np.array(cv.get_feature_names_out())\n",
    "\n",
    "#Look at top 10 most frequent words\n",
    "freqs=dtm.sum(axis=0).A.flatten()\n",
    "index=np.argsort(freqs)[-10:]\n",
    "\n",
    "# Construct dataframe\n",
    "WordFreq = pd.DataFrame.from_records(list(zip(words[index], freqs[index])))\n",
    "WordFreq.columns = ['Word', 'Frequency']\n",
    "\n",
    "# Plot horizontal bar graph\n",
    "fig, ax = plt.subplots(figsize=(5, 5))\n",
    "WordFreq.sort_values(by='Frequency').plot.barh(\n",
    "                      x='Word',\n",
    "                      y='Frequency',\n",
    "                      ax=ax,\n",
    "                      color=\"goldenrod\")\n",
    "\n",
    "# COLORS: darkred, goldenrod, forestgreen, deepskyblue, rebeccapurple\n",
    "\n",
    "plt.title(\"Most Common Words from this Subject\")"
   ]
  },
  {
   "cell_type": "code",
   "execution_count": null,
   "metadata": {},
   "outputs": [],
   "source": []
  }
 ],
 "metadata": {
  "kernelspec": {
   "display_name": "Python 3",
   "language": "python",
   "name": "python3"
  },
  "language_info": {
   "codemirror_mode": {
    "name": "ipython",
    "version": 3
   },
   "file_extension": ".py",
   "mimetype": "text/x-python",
   "name": "python",
   "nbconvert_exporter": "python",
   "pygments_lexer": "ipython3",
   "version": "3.9.5"
  },
  "orig_nbformat": 4,
  "vscode": {
   "interpreter": {
    "hash": "369f2c481f4da34e4445cda3fffd2e751bd1c4d706f27375911949ba6bb62e1c"
   }
  }
 },
 "nbformat": 4,
 "nbformat_minor": 2
}
