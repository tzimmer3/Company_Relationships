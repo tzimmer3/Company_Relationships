{
 "cells": [
  {
   "cell_type": "code",
   "execution_count": 7,
   "metadata": {},
   "outputs": [],
   "source": [
    "# Import packages\n",
    "import numpy as np\n",
    "import pandas as pd"
   ]
  },
  {
   "cell_type": "code",
   "execution_count": 8,
   "metadata": {},
   "outputs": [],
   "source": [
    "## FUNCTIONS\n",
    "\n",
    "#===========================\n",
    "# Display list of unique organizations\n",
    "#===========================\n",
    "def display_unique_organizations(df):\n",
    "    \"\"\"\n",
    "    Return a list of unique strings in a Pandas DataFrame column.\n",
    "    \"\"\"\n",
    "    return df['Organization'].unique()\n",
    "\n",
    "\n",
    "#===========================\n",
    "# Require two companies\n",
    "#===========================\n",
    "def filter_to_relationship(df, company1=\"Chevron\", company2=\"Exxon\"):\n",
    "    \"\"\"\n",
    "    Filter a dataframe by checking a column and ensuring that two independent strings are present.\n",
    "    \"\"\"\n",
    "    keep_index = np.where((df['Organizations'].str.contains(company1)) & (df['Organizations'].str.contains(company2)))\n",
    "    return df.loc[keep_index]\n",
    "\n",
    "\n",
    "#===========================\n",
    "# Require specific mention\n",
    "#===========================\n",
    "def filter_to_article_mentions(df, mention):\n",
    "    \"\"\"\n",
    "    Filter a dataframe by checking a column and ensuring that a string is present.\n",
    "    \"\"\"\n",
    "    keep_index = np.where(df['Text'].str.contains(mention))\n",
    "    return df.loc[keep_index]"
   ]
  },
  {
   "attachments": {},
   "cell_type": "markdown",
   "metadata": {},
   "source": [
    "## Filter to Specific Relationship and Mention"
   ]
  },
  {
   "cell_type": "code",
   "execution_count": 15,
   "metadata": {},
   "outputs": [],
   "source": [
    "# What two companies would you like to investigate? Order does not matter.\n",
    "company_1 = \"Chevron\"\n",
    "company_2 = \"Shell\"\n",
    "\n",
    "# Would you like to filter on any phrases?\n",
    "mention = \"carbon capture\""
   ]
  },
  {
   "cell_type": "code",
   "execution_count": 16,
   "metadata": {},
   "outputs": [
    {
     "data": {
      "text/html": [
       "<style type=\"text/css\">\n",
       "#T_8e3e9_row0_col0, #T_8e3e9_row1_col0 {\n",
       "  width: 600px;\n",
       "}\n",
       "</style>\n",
       "<table id=\"T_8e3e9\">\n",
       "  <thead>\n",
       "    <tr>\n",
       "      <th class=\"blank level0\" >&nbsp;</th>\n",
       "      <th id=\"T_8e3e9_level0_col0\" class=\"col_heading level0 col0\" >Text</th>\n",
       "      <th id=\"T_8e3e9_level0_col1\" class=\"col_heading level0 col1\" >Organizations</th>\n",
       "      <th id=\"T_8e3e9_level0_col2\" class=\"col_heading level0 col2\" >Sentiment</th>\n",
       "      <th id=\"T_8e3e9_level0_col3\" class=\"col_heading level0 col3\" >KeyPhrases</th>\n",
       "    </tr>\n",
       "  </thead>\n",
       "  <tbody>\n",
       "    <tr>\n",
       "      <th id=\"T_8e3e9_level0_row0\" class=\"row_heading level0 row0\" >0</th>\n",
       "      <td id=\"T_8e3e9_row0_col0\" class=\"data row0 col0\" >In commentary for GreenBiz (11/7), former vice president of the American Petroleum Institute and the American Chemistry Council Terry Yosie examines the increasingly strained relations between trade groups and their corporate members regarding environmental policy. He notes that while “a small number of companies actually withdrew their memberships due to policy differences (in 2019, for example, Royal Dutch Shell canceled its membership with the American Fuel and Petrochemicals Manufacturers over its difference on climate change policy), most choose to remain and debate association advocacy priorities.” The resulting divisions “often result in unclear and ineffective advocacy.” During the “latter stages of the U.S. Senate debate on the Inflation Reduction Act, conservative Republicans contacted the American Petroleum Institute (API) to more vigorously oppose the legislation.” Because members such as “Chevron and Exxon Mobil stood to benefit from generous funding provided for carbon capture and storage and development of hydrogen, API’s opposition was more muted.”</td>\n",
       "      <td id=\"T_8e3e9_row0_col1\" class=\"data row0 col1\" >[GreenBiz, the American Petroleum Institute, the American Chemistry Council, Royal Dutch Shell, the American Fuel and Petrochemicals Manufacturers, U.S. Senate, the American Petroleum Institute, Chevron, Exxon Mobil]</td>\n",
       "      <td id=\"T_8e3e9_row0_col2\" class=\"data row0 col2\" >{'label': 'NEGATIVE', 'score': 0.9985962510108948}</td>\n",
       "      <td id=\"T_8e3e9_row0_col3\" class=\"data row0 col3\" >[('petrochemicals manufacturers difference', 0.4643), ('senate debate inflation', 0.3871), ('shell canceled membership', 0.3698), ('climate change policy', 0.3538), ('conservative republicans', 0.3536)]</td>\n",
       "    </tr>\n",
       "    <tr>\n",
       "      <th id=\"T_8e3e9_level0_row1\" class=\"row_heading level0 row1\" >1</th>\n",
       "      <td id=\"T_8e3e9_row1_col0\" class=\"data row1 col0\" >Washington Examiner (11/1, Lowe), Tiana Lowe says Biden’s rhetoric around taxation “belies the reality that his oil-free fantasy largely depends upon oil companies’ massive profits. Who exactly does Biden think will fund the net-zero future demanded by Davos? ” Exxon “already funds more than a third of the planet’s existing carbon capture capacity,” while Chevron, which “pledged to push profits into clean energy investment before initiating stock buybacks, also partnered with Google to raise a quarter billion for a nuclear fusion startup earlier this year.” Shell, “which already sells renewables directly to Texans, is a British company, so it is not immediately clear how Biden’s proposed tax would affect it.”</td>\n",
       "      <td id=\"T_8e3e9_row1_col1\" class=\"data row1 col1\" >[Washington Examiner, Lowe, Exxon, Chevron, Google, Shell]</td>\n",
       "      <td id=\"T_8e3e9_row1_col2\" class=\"data row1 col2\" >{'label': 'NEGATIVE', 'score': 0.9958240985870361}</td>\n",
       "      <td id=\"T_8e3e9_row1_col3\" class=\"data row1 col3\" >[('oil companies massive', 0.4954), ('companies massive profits', 0.4931), ('shell sells renewables', 0.4369), ('nuclear fusion startup', 0.417), ('buybacks partnered google', 0.3854)]</td>\n",
       "    </tr>\n",
       "  </tbody>\n",
       "</table>\n"
      ],
      "text/plain": [
       "<pandas.io.formats.style.Styler at 0x244f1a5cbe0>"
      ]
     },
     "execution_count": 16,
     "metadata": {},
     "output_type": "execute_result"
    }
   ],
   "source": [
    "# Import Data\n",
    "df = pd.read_csv(\"C:\\\\Users\\\\hlmq\\\\OneDrive - Chevron\\\\Desktop\\\\Projects\\\\Company Relationships\\\\Data\\\\cleansed_CNE_articles.csv\")\n",
    "\n",
    "# Companies Filter\n",
    "filtered_df = filter_to_relationship(df, company_1, company_2)\n",
    "filtered_df.reset_index(inplace=True, drop=True)\n",
    "# Mentions Filter\n",
    "filtered_df = filter_to_article_mentions(filtered_df, mention)\n",
    "filtered_df.reset_index(inplace=True, drop=True)\n",
    "\n",
    "# Print the dataframe\n",
    "filtered_df.style.set_properties(subset=['Text'], **{'width': '600px'})"
   ]
  },
  {
   "attachments": {},
   "cell_type": "markdown",
   "metadata": {},
   "source": [
    "## Summarize Articles"
   ]
  },
  {
   "cell_type": "code",
   "execution_count": 5,
   "metadata": {},
   "outputs": [],
   "source": [
    "# \"Give me the elevator pitch\"\n",
    "\n",
    "articles = \"Discover Clean Tech (11/14, Deign) reports, “Petrochemical interests in the USA’s Gulf Coast are eying the delivery of low-carbon hydrogen and ammonia supplies while rushing to build new gas refining capacity.” For example, ExxonMobil is “investing in carbon capture and storage systems that could remove the emissions from hydrogen and ammonia production and make so-called ‘blue’ versions of the gases,” and Chevron is looking into “the development of a hydrogen and ammonia\""
   ]
  },
  {
   "cell_type": "code",
   "execution_count": 6,
   "metadata": {},
   "outputs": [
    {
     "data": {
      "text/plain": [
       "[{'summary_text': 'Petrochemical interests in the USA’s Gulf Coast are eying the delivery of low-carbon hydrogen and ammonia supplies while rushing to build new gas refining capacity. For example, ExxonMobil is “investing in carbon capture and storage systems that could remove the emissions from hydrogen'}]"
      ]
     },
     "execution_count": 6,
     "metadata": {},
     "output_type": "execute_result"
    }
   ],
   "source": [
    "# Injest filtered dataframe and summarize key points\n",
    "from transformers import pipeline\n",
    "\n",
    "summarizer = pipeline(\"summarization\", model=\"facebook/bart-large-cnn\")\n",
    "\n",
    "result = summarizer(\n",
    "    articles,\n",
    "    max_length = 60\n",
    ")\n",
    "\n",
    "result"
   ]
  },
  {
   "cell_type": "code",
   "execution_count": null,
   "metadata": {},
   "outputs": [],
   "source": []
  }
 ],
 "metadata": {
  "kernelspec": {
   "display_name": "Python 3",
   "language": "python",
   "name": "python3"
  },
  "language_info": {
   "codemirror_mode": {
    "name": "ipython",
    "version": 3
   },
   "file_extension": ".py",
   "mimetype": "text/x-python",
   "name": "python",
   "nbconvert_exporter": "python",
   "pygments_lexer": "ipython3",
   "version": "3.10.8"
  },
  "orig_nbformat": 4,
  "vscode": {
   "interpreter": {
    "hash": "369f2c481f4da34e4445cda3fffd2e751bd1c4d706f27375911949ba6bb62e1c"
   }
  }
 },
 "nbformat": 4,
 "nbformat_minor": 2
}
