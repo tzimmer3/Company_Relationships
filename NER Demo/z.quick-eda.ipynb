{
 "cells": [
  {
   "cell_type": "code",
   "execution_count": 1,
   "metadata": {},
   "outputs": [],
   "source": [
    "import pandas as pd\n",
    "import nltk"
   ]
  },
  {
   "cell_type": "code",
   "execution_count": 2,
   "metadata": {},
   "outputs": [],
   "source": [
    "df = pd.read_csv(\"C:\\\\Users\\\\hlmq\\\\OneDrive - Chevron\\\\Desktop\\\\Projects\\\\GSIC Threat Prediction\\\\Data\\\\LABELED_1.11.23_RandomSet2Predictions_1524.csv\")"
   ]
  },
  {
   "cell_type": "code",
   "execution_count": 3,
   "metadata": {},
   "outputs": [
    {
     "data": {
      "text/html": [
       "<div>\n",
       "<style scoped>\n",
       "    .dataframe tbody tr th:only-of-type {\n",
       "        vertical-align: middle;\n",
       "    }\n",
       "\n",
       "    .dataframe tbody tr th {\n",
       "        vertical-align: top;\n",
       "    }\n",
       "\n",
       "    .dataframe thead th {\n",
       "        text-align: right;\n",
       "    }\n",
       "</style>\n",
       "<table border=\"1\" class=\"dataframe\">\n",
       "  <thead>\n",
       "    <tr style=\"text-align: right;\">\n",
       "      <th></th>\n",
       "      <th>Caption</th>\n",
       "      <th>Alert_Type</th>\n",
       "      <th>Relevant</th>\n",
       "      <th>Bryce</th>\n",
       "    </tr>\n",
       "  </thead>\n",
       "  <tbody>\n",
       "    <tr>\n",
       "      <th>0</th>\n",
       "      <td>protest scheduled for # on plaza de la constit...</td>\n",
       "      <td>Alert</td>\n",
       "      <td>Relevant</td>\n",
       "      <td>False</td>\n",
       "    </tr>\n",
       "    <tr>\n",
       "      <th>1</th>\n",
       "      <td>protest blocks road at intersection of laurean...</td>\n",
       "      <td>Alert</td>\n",
       "      <td>Relevant</td>\n",
       "      <td>True</td>\n",
       "    </tr>\n",
       "    <tr>\n",
       "      <th>2</th>\n",
       "      <td>demonstration crowds area in ufa republic of b...</td>\n",
       "      <td>Alert</td>\n",
       "      <td>Relevant</td>\n",
       "      <td>True</td>\n",
       "    </tr>\n",
       "    <tr>\n",
       "      <th>3</th>\n",
       "      <td>protesters face off against police in front of...</td>\n",
       "      <td>Alert</td>\n",
       "      <td>Relevant</td>\n",
       "      <td>True</td>\n",
       "    </tr>\n",
       "    <tr>\n",
       "      <th>4</th>\n",
       "      <td>protest scheduled for march # at # in # cities...</td>\n",
       "      <td>Alert</td>\n",
       "      <td>Relevant</td>\n",
       "      <td>True</td>\n",
       "    </tr>\n",
       "  </tbody>\n",
       "</table>\n",
       "</div>"
      ],
      "text/plain": [
       "                                             Caption Alert_Type  Relevant  \\\n",
       "0  protest scheduled for # on plaza de la constit...      Alert  Relevant   \n",
       "1  protest blocks road at intersection of laurean...      Alert  Relevant   \n",
       "2  demonstration crowds area in ufa republic of b...      Alert  Relevant   \n",
       "3  protesters face off against police in front of...      Alert  Relevant   \n",
       "4  protest scheduled for march # at # in # cities...      Alert  Relevant   \n",
       "\n",
       "   Bryce  \n",
       "0  False  \n",
       "1   True  \n",
       "2   True  \n",
       "3   True  \n",
       "4   True  "
      ]
     },
     "execution_count": 3,
     "metadata": {},
     "output_type": "execute_result"
    }
   ],
   "source": [
    "df.head()"
   ]
  },
  {
   "cell_type": "code",
   "execution_count": 4,
   "metadata": {},
   "outputs": [
    {
     "data": {
      "text/plain": [
       "False    1223\n",
       "True      301\n",
       "Name: Bryce, dtype: int64"
      ]
     },
     "execution_count": 4,
     "metadata": {},
     "output_type": "execute_result"
    }
   ],
   "source": [
    "df['Bryce'].value_counts()"
   ]
  },
  {
   "cell_type": "code",
   "execution_count": 5,
   "metadata": {},
   "outputs": [
    {
     "data": {
      "text/plain": [
       "'four police officers seriously injured and one arrested during protest at istana negara in jakarta indonesia'"
      ]
     },
     "execution_count": 5,
     "metadata": {},
     "output_type": "execute_result"
    }
   ],
   "source": [
    "df['Caption'][10]"
   ]
  },
  {
   "attachments": {},
   "cell_type": "markdown",
   "metadata": {},
   "source": [
    "## Tokenize Captions"
   ]
  },
  {
   "cell_type": "code",
   "execution_count": 9,
   "metadata": {},
   "outputs": [],
   "source": [
    "# Tokenize (also removes punctuation and makes everything lowercase)\n",
    "def tokenize(page):\n",
    "    tokens = nltk.word_tokenize(page)\n",
    "    return tokens"
   ]
  },
  {
   "cell_type": "code",
   "execution_count": 10,
   "metadata": {},
   "outputs": [],
   "source": [
    "df['caption_tokens'] = df['Caption'].apply(tokenize)"
   ]
  },
  {
   "attachments": {},
   "cell_type": "markdown",
   "metadata": {},
   "source": [
    "## Needle in a haystack"
   ]
  },
  {
   "cell_type": "code",
   "execution_count": 12,
   "metadata": {},
   "outputs": [],
   "source": [
    "#Import packages\n",
    "import pandas as pd\n",
    "import numpy as np\n",
    "import matplotlib.pyplot as plt\n",
    "import seaborn as sns\n",
    "\n",
    "import os\n",
    "import string\n",
    "import nltk\n",
    "import re\n",
    "\n",
    "from sklearn.feature_extraction.text import TfidfVectorizer,CountVectorizer\n",
    "from sklearn.model_selection import train_test_split\n",
    "from sklearn import metrics\n",
    "from sklearn.metrics.pairwise import cosine_similarity\n",
    "from sklearn.decomposition import PCA\n",
    "from sklearn.cluster import KMeans\n",
    "\n",
    "#Topic Modeling\n",
    "from sklearn.decomposition import LatentDirichletAllocation as LDA"
   ]
  },
  {
   "cell_type": "code",
   "execution_count": 13,
   "metadata": {},
   "outputs": [],
   "source": [
    "# Helper functions\n",
    "def print_topics(model, count_vectorizer, n_top_words) -> str:\n",
    "    words = count_vectorizer.get_feature_names()\n",
    "    for topic_idx, topic in enumerate(model.components_):\n",
    "        print(\"\\nTopic #%d:\" % topic_idx)\n",
    "        print(\" \".join([words[i] for i in topic.argsort()[:-n_top_words - 1:-1]]))"
   ]
  },
  {
   "cell_type": "code",
   "execution_count": 16,
   "metadata": {},
   "outputs": [
    {
     "name": "stderr",
     "output_type": "stream",
     "text": [
      "C:\\Users\\hlmq\\AppData\\Roaming\\Python\\Python310\\site-packages\\sklearn\\utils\\deprecation.py:87: FutureWarning: Function get_feature_names is deprecated; get_feature_names is deprecated in 1.0 and will be removed in 1.2. Please use get_feature_names_out instead.\n",
      "  warnings.warn(msg, category=FutureWarning)\n"
     ]
    }
   ],
   "source": [
    "# TF-IDF, Cosine Similarity, Principal Components\n",
    "\n",
    "# Term Frequency / Inverse Document Frequency creation\n",
    "vectorizer = TfidfVectorizer()\n",
    "vectors = vectorizer.fit_transform(df['Caption'])\n",
    "feature_names = vectorizer.get_feature_names()\n",
    "dense = vectors.todense()\n",
    "denselist = dense.tolist()\n",
    "\n",
    "df_TFIDF = pd.DataFrame(denselist, columns=feature_names)\n",
    "\n",
    "# Compute cosine similarity between rows\n",
    "simRes = cosine_similarity(df_TFIDF)\n",
    "\n",
    "# Principal Components to reduce dimensions to 2\n",
    "dr = PCA(n_components=2)\n",
    "pcaDF = pd.DataFrame(dr.fit_transform(simRes))\n",
    "\n",
    "\n",
    "dense_df = pd.DataFrame(dense,columns = feature_names)"
   ]
  },
  {
   "cell_type": "code",
   "execution_count": 26,
   "metadata": {},
   "outputs": [
    {
     "data": {
      "text/plain": [
       "Text(0.5, 1.0, 'KMeans Cluster of Cosine Similarity on Observations')"
      ]
     },
     "execution_count": 26,
     "metadata": {},
     "output_type": "execute_result"
    },
    {
     "data": {
      "image/png": "[encoded data removed]",
      "text/plain": [
       "<Figure size 720x432 with 1 Axes>"
      ]
     },
     "metadata": {
      "needs_background": "light"
     },
     "output_type": "display_data"
    }
   ],
   "source": [
    "# Fit KMeans clustering algorithm\n",
    "n_clus = 12\n",
    "\n",
    "# Cluster analysis on cosine similarity dataset leveraging Principal Componenets\n",
    "kmeans = KMeans(n_clusters=n_clus).fit(pcaDF)\n",
    "\n",
    "# Plot results\n",
    "fig = plt.figure()\n",
    "fig.set_size_inches(10, 6)\n",
    "\n",
    "for i in range(0,n_clus):\n",
    "    plt.scatter(pcaDF.loc[kmeans.labels_ == i, 0], pcaDF.loc[kmeans.labels_ == i, 1], label='Group '+ str(i))\n",
    "\n",
    "plt.legend()\n",
    "plt.title(\"KMeans Cluster of Cosine Similarity on Observations\")"
   ]
  },
  {
   "attachments": {},
   "cell_type": "markdown",
   "metadata": {},
   "source": [
    "## Post-Hoc Analysis"
   ]
  },
  {
   "cell_type": "code",
   "execution_count": 30,
   "metadata": {},
   "outputs": [
    {
     "data": {
      "text/plain": [
       "1     101\n",
       "8      85\n",
       "4      41\n",
       "5      26\n",
       "10     15\n",
       "7      10\n",
       "0       8\n",
       "2       7\n",
       "6       5\n",
       "11      3\n",
       "Name: cluster, dtype: int64"
      ]
     },
     "execution_count": 30,
     "metadata": {},
     "output_type": "execute_result"
    }
   ],
   "source": [
    "check1 = df[df['Bryce']==True]\n",
    "check1['cluster'].value_counts()"
   ]
  },
  {
   "cell_type": "code",
   "execution_count": 31,
   "metadata": {},
   "outputs": [],
   "source": [
    "# What cluster would you like to investigate?\n",
    "\n",
    "group_number = 1"
   ]
  },
  {
   "cell_type": "code",
   "execution_count": 32,
   "metadata": {},
   "outputs": [
    {
     "name": "stderr",
     "output_type": "stream",
     "text": [
      "C:\\Users\\hlmq\\AppData\\Local\\Temp\\ipykernel_15344\\3424556031.py:15: SettingWithCopyWarning: \n",
      "A value is trying to be set on a copy of a slice from a DataFrame\n",
      "\n",
      "See the caveats in the documentation: https://pandas.pydata.org/pandas-docs/stable/user_guide/indexing.html#returning-a-view-versus-a-copy\n",
      "  check.sort_values(\"similarity_score\", inplace=True, ascending=False)\n"
     ]
    },
    {
     "data": {
      "text/html": [
       "<div>\n",
       "<style scoped>\n",
       "    .dataframe tbody tr th:only-of-type {\n",
       "        vertical-align: middle;\n",
       "    }\n",
       "\n",
       "    .dataframe tbody tr th {\n",
       "        vertical-align: top;\n",
       "    }\n",
       "\n",
       "    .dataframe thead th {\n",
       "        text-align: right;\n",
       "    }\n",
       "</style>\n",
       "<table border=\"1\" class=\"dataframe\">\n",
       "  <thead>\n",
       "    <tr style=\"text-align: right;\">\n",
       "      <th></th>\n",
       "      <th>Caption</th>\n",
       "      <th>Alert_Type</th>\n",
       "      <th>Relevant</th>\n",
       "      <th>Bryce</th>\n",
       "      <th>caption_tokens</th>\n",
       "      <th>cluster</th>\n",
       "      <th>similarity_score</th>\n",
       "    </tr>\n",
       "  </thead>\n",
       "  <tbody>\n",
       "    <tr>\n",
       "      <th>6</th>\n",
       "      <td>heavy shooting heard during clashes in san pab...</td>\n",
       "      <td>Urgent</td>\n",
       "      <td>Relevant</td>\n",
       "      <td>True</td>\n",
       "      <td>[heavy, shooting, heard, during, clashes, in, ...</td>\n",
       "      <td>1</td>\n",
       "      <td>1.000000</td>\n",
       "    </tr>\n",
       "    <tr>\n",
       "      <th>700</th>\n",
       "      <td>two dead three injured due to explosions durin...</td>\n",
       "      <td>Urgent</td>\n",
       "      <td>Relevant</td>\n",
       "      <td>False</td>\n",
       "      <td>[two, dead, three, injured, due, to, explosion...</td>\n",
       "      <td>1</td>\n",
       "      <td>0.204368</td>\n",
       "    </tr>\n",
       "    <tr>\n",
       "      <th>1408</th>\n",
       "      <td>explosions reported during possible public dis...</td>\n",
       "      <td>Urgent</td>\n",
       "      <td>Relevant</td>\n",
       "      <td>True</td>\n",
       "      <td>[explosions, reported, during, possible, publi...</td>\n",
       "      <td>1</td>\n",
       "      <td>0.111522</td>\n",
       "    </tr>\n",
       "    <tr>\n",
       "      <th>1410</th>\n",
       "      <td>major flooding after heavy rainfall in helidon...</td>\n",
       "      <td>Urgent</td>\n",
       "      <td>Relevant</td>\n",
       "      <td>False</td>\n",
       "      <td>[major, flooding, after, heavy, rainfall, in, ...</td>\n",
       "      <td>1</td>\n",
       "      <td>0.106929</td>\n",
       "    </tr>\n",
       "    <tr>\n",
       "      <th>1277</th>\n",
       "      <td>possible tear gas deployed and gunshots heard ...</td>\n",
       "      <td>Urgent</td>\n",
       "      <td>Relevant</td>\n",
       "      <td>False</td>\n",
       "      <td>[possible, tear, gas, deployed, and, gunshots,...</td>\n",
       "      <td>1</td>\n",
       "      <td>0.094414</td>\n",
       "    </tr>\n",
       "    <tr>\n",
       "      <th>...</th>\n",
       "      <td>...</td>\n",
       "      <td>...</td>\n",
       "      <td>...</td>\n",
       "      <td>...</td>\n",
       "      <td>...</td>\n",
       "      <td>...</td>\n",
       "      <td>...</td>\n",
       "    </tr>\n",
       "    <tr>\n",
       "      <th>1160</th>\n",
       "      <td>buses transport demonstrators to leskovac serbia</td>\n",
       "      <td>Urgent</td>\n",
       "      <td>Relevant</td>\n",
       "      <td>False</td>\n",
       "      <td>[buses, transport, demonstrators, to, leskovac...</td>\n",
       "      <td>1</td>\n",
       "      <td>0.000000</td>\n",
       "    </tr>\n",
       "    <tr>\n",
       "      <th>757</th>\n",
       "      <td>georgian government reportedly delays departur...</td>\n",
       "      <td>Urgent</td>\n",
       "      <td>Relevant</td>\n",
       "      <td>False</td>\n",
       "      <td>[georgian, government, reportedly, delays, dep...</td>\n",
       "      <td>1</td>\n",
       "      <td>0.000000</td>\n",
       "    </tr>\n",
       "    <tr>\n",
       "      <th>1166</th>\n",
       "      <td>checkpoints being set up at entrance to lviv u...</td>\n",
       "      <td>Urgent</td>\n",
       "      <td>Relevant</td>\n",
       "      <td>False</td>\n",
       "      <td>[checkpoints, being, set, up, at, entrance, to...</td>\n",
       "      <td>1</td>\n",
       "      <td>0.000000</td>\n",
       "    </tr>\n",
       "    <tr>\n",
       "      <th>756</th>\n",
       "      <td>taiwanese environmental alliance creates onlin...</td>\n",
       "      <td>Alert</td>\n",
       "      <td>Relevant</td>\n",
       "      <td>False</td>\n",
       "      <td>[taiwanese, environmental, alliance, creates, ...</td>\n",
       "      <td>1</td>\n",
       "      <td>0.000000</td>\n",
       "    </tr>\n",
       "    <tr>\n",
       "      <th>1522</th>\n",
       "      <td>navigational warning issued due to unreliable ...</td>\n",
       "      <td>Alert</td>\n",
       "      <td>Relevant</td>\n",
       "      <td>False</td>\n",
       "      <td>[navigational, warning, issued, due, to, unrel...</td>\n",
       "      <td>1</td>\n",
       "      <td>0.000000</td>\n",
       "    </tr>\n",
       "  </tbody>\n",
       "</table>\n",
       "<p>436 rows × 7 columns</p>\n",
       "</div>"
      ],
      "text/plain": [
       "                                                Caption Alert_Type  Relevant  \\\n",
       "6     heavy shooting heard during clashes in san pab...     Urgent  Relevant   \n",
       "700   two dead three injured due to explosions durin...     Urgent  Relevant   \n",
       "1408  explosions reported during possible public dis...     Urgent  Relevant   \n",
       "1410  major flooding after heavy rainfall in helidon...     Urgent  Relevant   \n",
       "1277  possible tear gas deployed and gunshots heard ...     Urgent  Relevant   \n",
       "...                                                 ...        ...       ...   \n",
       "1160   buses transport demonstrators to leskovac serbia     Urgent  Relevant   \n",
       "757   georgian government reportedly delays departur...     Urgent  Relevant   \n",
       "1166  checkpoints being set up at entrance to lviv u...     Urgent  Relevant   \n",
       "756   taiwanese environmental alliance creates onlin...      Alert  Relevant   \n",
       "1522  navigational warning issued due to unreliable ...      Alert  Relevant   \n",
       "\n",
       "      Bryce                                     caption_tokens  cluster  \\\n",
       "6      True  [heavy, shooting, heard, during, clashes, in, ...        1   \n",
       "700   False  [two, dead, three, injured, due, to, explosion...        1   \n",
       "1408   True  [explosions, reported, during, possible, publi...        1   \n",
       "1410  False  [major, flooding, after, heavy, rainfall, in, ...        1   \n",
       "1277  False  [possible, tear, gas, deployed, and, gunshots,...        1   \n",
       "...     ...                                                ...      ...   \n",
       "1160  False  [buses, transport, demonstrators, to, leskovac...        1   \n",
       "757   False  [georgian, government, reportedly, delays, dep...        1   \n",
       "1166  False  [checkpoints, being, set, up, at, entrance, to...        1   \n",
       "756   False  [taiwanese, environmental, alliance, creates, ...        1   \n",
       "1522  False  [navigational, warning, issued, due, to, unrel...        1   \n",
       "\n",
       "      similarity_score  \n",
       "6             1.000000  \n",
       "700           0.204368  \n",
       "1408          0.111522  \n",
       "1410          0.106929  \n",
       "1277          0.094414  \n",
       "...                ...  \n",
       "1160          0.000000  \n",
       "757           0.000000  \n",
       "1166          0.000000  \n",
       "756           0.000000  \n",
       "1522          0.000000  \n",
       "\n",
       "[436 rows x 7 columns]"
      ]
     },
     "execution_count": 32,
     "metadata": {},
     "output_type": "execute_result"
    }
   ],
   "source": [
    "# Show Dataframe \n",
    "\n",
    "df['cluster'] = kmeans.labels_\n",
    "\n",
    "check = df[df['cluster']==group_number]\n",
    "\n",
    "index_position = check.index.values.astype(int)[0]\n",
    "\n",
    "del check\n",
    "\n",
    "df['similarity_score'] = simRes[index_position]\n",
    "\n",
    "check = df[df['cluster']==group_number]\n",
    "\n",
    "check.sort_values(\"similarity_score\", inplace=True, ascending=False)\n",
    "\n",
    "#  Show DataFrame\n",
    "check"
   ]
  },
  {
   "cell_type": "code",
   "execution_count": 34,
   "metadata": {},
   "outputs": [
    {
     "data": {
      "text/plain": [
       "Alert     224\n",
       "Urgent    212\n",
       "Name: Alert_Type, dtype: int64"
      ]
     },
     "execution_count": 34,
     "metadata": {},
     "output_type": "execute_result"
    }
   ],
   "source": [
    "check['Alert_Type'].value_counts()"
   ]
  },
  {
   "cell_type": "code",
   "execution_count": 35,
   "metadata": {},
   "outputs": [
    {
     "data": {
      "text/plain": [
       "False    335\n",
       "True     101\n",
       "Name: Bryce, dtype: int64"
      ]
     },
     "execution_count": 35,
     "metadata": {},
     "output_type": "execute_result"
    }
   ],
   "source": [
    "check['Bryce'].value_counts()"
   ]
  },
  {
   "cell_type": "code",
   "execution_count": 33,
   "metadata": {},
   "outputs": [
    {
     "name": "stderr",
     "output_type": "stream",
     "text": [
      "C:\\Users\\hlmq\\AppData\\Roaming\\Python\\Python310\\site-packages\\sklearn\\utils\\deprecation.py:87: FutureWarning: Function get_feature_names is deprecated; get_feature_names is deprecated in 1.0 and will be removed in 1.2. Please use get_feature_names_out instead.\n",
      "  warnings.warn(msg, category=FutureWarning)\n"
     ]
    },
    {
     "name": "stdout",
     "output_type": "stream",
     "text": [
      "Topics found via LDA:\n",
      "\n",
      "Topic #0:\n",
      "in to of says and ukraine oil after from russia\n",
      "\n",
      "Topic #1:\n",
      "in flight to kazakhstan over region area information mgrs activated\n",
      "\n",
      "Topic #2:\n",
      "to in of ukraine russian due and australia says with\n"
     ]
    }
   ],
   "source": [
    "# LDA Modeling\n",
    "\n",
    "#Create DTM\n",
    "cv = CountVectorizer(ngram_range = (1,1))\n",
    "dtm = cv.fit_transform(check['Caption'])\n",
    "words = np.array(cv.get_feature_names())\n",
    "\n",
    "#Parameters\n",
    "\n",
    "number_topics = 3\n",
    "number_words = 10\n",
    "\n",
    "# Create and fit the LDA model\n",
    "lda = LDA(n_components=number_topics, n_jobs=-1, random_state=123)\n",
    "lda.fit(dtm)\n",
    "# Print the topics found by the LDA model\n",
    "print(\"Topics found via LDA:\")\n",
    "print_topics(lda, cv, number_words)\n",
    "#print_topics()"
   ]
  },
  {
   "cell_type": "code",
   "execution_count": null,
   "metadata": {},
   "outputs": [],
   "source": [
    "# Check what topic each document is most similar to\n",
    "doc_topic_distrib = lda.transform(dtm)\n",
    "doc_topic_distrib[-1]"
   ]
  }
 ],
 "metadata": {
  "kernelspec": {
   "display_name": "Python 3",
   "language": "python",
   "name": "python3"
  },
  "language_info": {
   "codemirror_mode": {
    "name": "ipython",
    "version": 3
   },
   "file_extension": ".py",
   "mimetype": "text/x-python",
   "name": "python",
   "nbconvert_exporter": "python",
   "pygments_lexer": "ipython3",
   "version": "3.10.8 (tags/v3.10.8:aaaf517, Oct 11 2022, 16:50:30) [MSC v.1933 64 bit (AMD64)]"
  },
  "orig_nbformat": 4,
  "vscode": {
   "interpreter": {
    "hash": "369f2c481f4da34e4445cda3fffd2e751bd1c4d706f27375911949ba6bb62e1c"
   }
  }
 },
 "nbformat": 4,
 "nbformat_minor": 2
}
