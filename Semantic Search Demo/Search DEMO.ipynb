{
 "cells": [
  {
   "attachments": {},
   "cell_type": "markdown",
   "metadata": {},
   "source": [
    "# Semantic Search on a Corpus"
   ]
  },
  {
   "cell_type": "code",
   "execution_count": null,
   "metadata": {},
   "outputs": [],
   "source": [
    "# Import Packages\n",
    "import json\n",
    "import numpy as np\n",
    "import pandas as pd\n",
    "import tiktoken\n",
    "from joblib import load"
   ]
  },
  {
   "attachments": {},
   "cell_type": "markdown",
   "metadata": {},
   "source": [
    "## Import Data"
   ]
  },
  {
   "cell_type": "code",
   "execution_count": null,
   "metadata": {},
   "outputs": [],
   "source": [
    "# Import Data\n",
    "filepath = \"C:\\\\Users\\\\hlmq\\\\OneDrive - Chevron\\\\Desktop\\\\Projects\\\\Company Relationships\\\\Data\\\\Exxon\\\\\"\n",
    "filename = \"CompanyProfileNewsData.json\"\n",
    "\n",
    "df = pd.read_json(str(filepath)+str(filename), lines=True)\n",
    "len(df)"
   ]
  },
  {
   "cell_type": "code",
   "execution_count": null,
   "metadata": {},
   "outputs": [],
   "source": [
    "# ================== #\n",
    "# Tokenize Text\n",
    "# ================== #\n",
    "\n",
    "# TODO: change tiktoken out to real tokenizer... or use tiktoken\n",
    "\n",
    "def get_tokens(text_2_encode: str, tokenizer=None):\n",
    "    \"\"\"\n",
    "    Tokenize text in a string.\n",
    "\n",
    "    Initialize a tokenizer if tokenizer == None.\n",
    "    \"\"\"\n",
    "\n",
    "    if tokenizer is None:\n",
    "        tokenizer = tiktoken.encoding_for_model(\"text-davinci-003\")\n",
    "    return tokenizer.encode(text=text_2_encode)\n",
    "\n",
    "\n",
    "def get_num_tokens(text_2_encode: str, **kwargs):\n",
    "    \"\"\"\n",
    "    Count the number of tokens in a string.\n",
    "    \"\"\"\n",
    "    return len(get_tokens(text_2_encode=text_2_encode, **kwargs))\n",
    "\n",
    "\n",
    "# ================== #\n",
    "#  Get Embeddings\n",
    "# ================== #\n",
    "\n",
    "def get_embeddings(text=None, model=None):\n",
    "    \"\"\"\n",
    "    Generate embeddings on a string of text.\n",
    "    \"\"\"\n",
    "    if model==None:\n",
    "        model = load('./model/SentBERTmodel.pkl')\n",
    "\n",
    "    return model.encode(text)\n",
    "\n",
    "\n",
    "# ================== #\n",
    "#  Calculate Vector Similarity\n",
    "# ================== #\n",
    "\n",
    "def vector_similarity(x: \"list[float]\", y: \"list[float]\") -> float:\n",
    "    \"\"\"\n",
    "    Returns the similarity between two vectors.\n",
    "\n",
    "    Because embeddings are normalized to length 1, the cosine similarity is the same as the dot product.\n",
    "    \"\"\"\n",
    "    return np.dot(np.array(x), np.array(y))\n",
    "\n",
    "\n",
    "# ================== #\n",
    "#  Order Chunks by Similarity\n",
    "# ================== #\n",
    "\n",
    "def measure_embedding_similarity(\n",
    "    query: str,\n",
    "    embeddings\n",
    "):\n",
    "    \"\"\"\n",
    "    Find the query embedding for the supplied query, and compare it against all of the pre-calculated document embeddings\n",
    "    to find the most relevant sections.\n",
    "\n",
    "    Return the list of document sections, sorted by relevance in descending order.\n",
    "    \"\"\"\n",
    "    query_embedding = get_embeddings(query)\n",
    "\n",
    "    return [vector_similarity(query_embedding, embedding) for embedding in embeddings]\n",
    "\n",
    "\n",
    "# ================== #\n",
    "#  Get Similar Texts\n",
    "# ================== #\n",
    "\n",
    "def get_similar_texts(df, k):\n",
    "    \"\"\"\n",
    "    Slice a dataframe on the top k results.  Sort the sliced dataframe descending on similarity score.\n",
    "\n",
    "    If there are repeated results in top 5, keep them all.\n",
    "    \"\"\"\n",
    "    response = df.nlargest(k, columns=['similarity score'],keep='all')\n",
    "    response = response.sort_values(by='similarity score', ascending=False)\n",
    "    return response"
   ]
  },
  {
   "cell_type": "code",
   "execution_count": null,
   "metadata": {},
   "outputs": [],
   "source": [
    "# ================== #\n",
    "#  Run (score.py)\n",
    "# ================== #\n",
    "\n",
    "def run(question: str, k: int, embeddings, df) -> dict[str,str]:\n",
    "\n",
    "    # Retrieve Top K Most Similar Results\n",
    "    df['similarity score'] = measure_embedding_similarity(question, embeddings)\n",
    "    \n",
    "    # Return Chunks With Highest Similarity (Text)\n",
    "    response = get_similar_texts(df, k)\n",
    "    \n",
    "    return response"
   ]
  },
  {
   "cell_type": "code",
   "execution_count": null,
   "metadata": {},
   "outputs": [],
   "source": [
    "# Produce Data\n",
    "\n",
    "# Generate embeddings\n",
    "embeddings = get_embeddings(df['n_summary'])\n",
    "df['embeddings'] = embeddings.tolist()\n",
    "\n",
    "# Count number of tokens in each article\n",
    "df['token count'] = df['n_summary'].apply(get_num_tokens)"
   ]
  },
  {
   "attachments": {},
   "cell_type": "markdown",
   "metadata": {},
   "source": [
    "## Ask Questions"
   ]
  },
  {
   "cell_type": "code",
   "execution_count": null,
   "metadata": {},
   "outputs": [],
   "source": [
    "response = run(\"is ExxonMobil investing in advanced recycling of plastic\", 5, embeddings, df)\n",
    "\n",
    "response.style.set_properties(subset=['n_summary'], **{'width': '600px'})"
   ]
  },
  {
   "cell_type": "code",
   "execution_count": null,
   "metadata": {},
   "outputs": [],
   "source": [
    "response = run(\"What are Exxon's decarbonization goals?\", 5, embeddings, df)\n",
    "\n",
    "response.style.set_properties(subset=['n_summary'], **{'width': '600px'})"
   ]
  },
  {
   "cell_type": "code",
   "execution_count": null,
   "metadata": {},
   "outputs": [],
   "source": [
    "response = run(\"How much is Exxon planning to invest in Carbon Capture, Utilization, and Storage?\", 5, embeddings, df)\n",
    "\n",
    "response.style.set_properties(subset=['n_summary'], **{'width': '600px'})"
   ]
  },
  {
   "cell_type": "code",
   "execution_count": null,
   "metadata": {},
   "outputs": [],
   "source": [
    "response = run(\"How much is Exxon planning to invest in Hydrogen?\", 5, embeddings, df)\n",
    "\n",
    "response.style.set_properties(subset=['n_summary'], **{'width': '600px'})"
   ]
  },
  {
   "attachments": {},
   "cell_type": "markdown",
   "metadata": {},
   "source": [
    "## Output Data (if needed)"
   ]
  },
  {
   "cell_type": "code",
   "execution_count": null,
   "metadata": {},
   "outputs": [],
   "source": [
    "OUTPUT_filepath = \"C:\\\\Users\\\\hlmq\\\\OneDrive - Chevron\\\\Desktop\\\\Projects\\\\Company Relationships\\\\Data\\\\Exxon\\\\Export Results\\\\\"\n",
    "OUTPUT_file = \"query_hydrogen.csv\"\n",
    "\n",
    "response.to_csv(str(OUTPUT_filepath)+str(OUTPUT_file), index=False)"
   ]
  }
 ],
 "metadata": {
  "kernelspec": {
   "display_name": "nlp_testing",
   "language": "python",
   "name": "python3"
  },
  "language_info": {
   "codemirror_mode": {
    "name": "ipython",
    "version": 3
   },
   "file_extension": ".py",
   "mimetype": "text/x-python",
   "name": "python",
   "nbconvert_exporter": "python",
   "pygments_lexer": "ipython3",
   "version": "3.9.5"
  },
  "orig_nbformat": 4,
  "vscode": {
   "interpreter": {
    "hash": "ee9cf5fd0714cb920d7340508c15063f95cfdc9bae6b029d25aa5c3349178639"
   }
  }
 },
 "nbformat": 4,
 "nbformat_minor": 2
}
