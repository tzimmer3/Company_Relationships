{
 "cells": [
  {
   "attachments": {},
   "cell_type": "markdown",
   "metadata": {},
   "source": [
    "# Generate Chunks from Larger Documents"
   ]
  },
  {
   "attachments": {},
   "cell_type": "markdown",
   "metadata": {},
   "source": [
    "This notebook is used to break down documents into smaller text sequences so that the model can consume them."
   ]
  },
  {
   "cell_type": "code",
   "execution_count": 5,
   "metadata": {},
   "outputs": [],
   "source": [
    "# Import Packages\n",
    "import pandas as pd\n",
    "from joblib import load"
   ]
  },
  {
   "cell_type": "code",
   "execution_count": 6,
   "metadata": {},
   "outputs": [
    {
     "data": {
      "text/html": [
       "<div>\n",
       "<style scoped>\n",
       "    .dataframe tbody tr th:only-of-type {\n",
       "        vertical-align: middle;\n",
       "    }\n",
       "\n",
       "    .dataframe tbody tr th {\n",
       "        vertical-align: top;\n",
       "    }\n",
       "\n",
       "    .dataframe thead th {\n",
       "        text-align: right;\n",
       "    }\n",
       "</style>\n",
       "<table border=\"1\" class=\"dataframe\">\n",
       "  <thead>\n",
       "    <tr style=\"text-align: right;\">\n",
       "      <th></th>\n",
       "      <th>n_title</th>\n",
       "      <th>n_link</th>\n",
       "      <th>n_date_published</th>\n",
       "      <th>n_summary</th>\n",
       "    </tr>\n",
       "  </thead>\n",
       "  <tbody>\n",
       "    <tr>\n",
       "      <th>0</th>\n",
       "      <td>Mini Nuclear Reactor Firm Newcleo Starts to Ra...</td>\n",
       "      <td>https://www.bnef.com/news/1127367?e=RSS:MixedFeed</td>\n",
       "      <td>2023-03-20 00:54:00Z</td>\n",
       "      <td>Newcleo, a company developing small nuclear re...</td>\n",
       "    </tr>\n",
       "    <tr>\n",
       "      <th>1</th>\n",
       "      <td>Foreign Investor Interest in India Renewables ...</td>\n",
       "      <td>https://www.bnef.com/shorts/15929?e=RSS:MixedFeed</td>\n",
       "      <td>2023-03-06 08:35:00Z</td>\n",
       "      <td>India closed $2.6 billion M&amp;A deals in 2022For...</td>\n",
       "    </tr>\n",
       "    <tr>\n",
       "      <th>2</th>\n",
       "      <td>Enough Wind Power for a Major City Snarled Ami...</td>\n",
       "      <td>https://www.bnef.com/news/1123837?e=RSS:MixedFeed</td>\n",
       "      <td>2023-03-09 01:42:39Z</td>\n",
       "      <td>A cluster of seven wind turbines towering abov...</td>\n",
       "    </tr>\n",
       "    <tr>\n",
       "      <th>3</th>\n",
       "      <td>ExxonMobil tests advanced recycling of plastic...</td>\n",
       "      <td>https://corporate.exxonmobil.com/news/newsroom...</td>\n",
       "      <td>2021-02-25  00:00:00</td>\n",
       "      <td>ExxonMobil has completed the initial phase of ...</td>\n",
       "    </tr>\n",
       "    <tr>\n",
       "      <th>4</th>\n",
       "      <td>Asia Is Set to Steer Strong March Global Jet F...</td>\n",
       "      <td>https://www.bnef.com/insights/30917?e=RSS:Mixe...</td>\n",
       "      <td>2023-03-03 09:20:28Z</td>\n",
       "      <td>With spring approaching, air travel will gathe...</td>\n",
       "    </tr>\n",
       "  </tbody>\n",
       "</table>\n",
       "</div>"
      ],
      "text/plain": [
       "                                             n_title  \\\n",
       "0  Mini Nuclear Reactor Firm Newcleo Starts to Ra...   \n",
       "1  Foreign Investor Interest in India Renewables ...   \n",
       "2  Enough Wind Power for a Major City Snarled Ami...   \n",
       "3  ExxonMobil tests advanced recycling of plastic...   \n",
       "4  Asia Is Set to Steer Strong March Global Jet F...   \n",
       "\n",
       "                                              n_link      n_date_published  \\\n",
       "0  https://www.bnef.com/news/1127367?e=RSS:MixedFeed  2023-03-20 00:54:00Z   \n",
       "1  https://www.bnef.com/shorts/15929?e=RSS:MixedFeed  2023-03-06 08:35:00Z   \n",
       "2  https://www.bnef.com/news/1123837?e=RSS:MixedFeed  2023-03-09 01:42:39Z   \n",
       "3  https://corporate.exxonmobil.com/news/newsroom...  2021-02-25  00:00:00   \n",
       "4  https://www.bnef.com/insights/30917?e=RSS:Mixe...  2023-03-03 09:20:28Z   \n",
       "\n",
       "                                           n_summary  \n",
       "0  Newcleo, a company developing small nuclear re...  \n",
       "1  India closed $2.6 billion M&A deals in 2022For...  \n",
       "2  A cluster of seven wind turbines towering abov...  \n",
       "3  ExxonMobil has completed the initial phase of ...  \n",
       "4  With spring approaching, air travel will gathe...  "
      ]
     },
     "execution_count": 6,
     "metadata": {},
     "output_type": "execute_result"
    }
   ],
   "source": [
    "# Import Data\n",
    "filepath = \"C:\\\\Users\\\\hlmq\\\\OneDrive - Chevron\\\\Desktop\\\\Projects\\\\Company Relationships\\\\Data\\\\Exxon\\\\\"\n",
    "filename = \"CompanyProfileNewsData.json\"\n",
    "\n",
    "df = pd.read_json(str(filepath)+str(filename), lines=True)\n",
    "df.head()"
   ]
  },
  {
   "cell_type": "code",
   "execution_count": 7,
   "metadata": {},
   "outputs": [],
   "source": [
    "## Functions\n",
    "\n",
    "def group_words(s, n):\n",
    "    \"\"\"\n",
    "    Document Chunking methodology to break a document down into smaller pieces.\n",
    "\n",
    "    Takes in a string and maximum size of a string and outputs multiple smaller strings.\n",
    "    \"\"\"\n",
    "    words = s.split()\n",
    "    for i in range(0, len(words), n):\n",
    "        yield ' '.join(words[i:i+n])\n",
    "\n",
    "\n",
    "def get_embeddings(text=None, model=None):\n",
    "    if model==None:\n",
    "        model = load('./model/SentBERTmodel.pkl')\n",
    "\n",
    "    return model.encode(text)"
   ]
  },
  {
   "attachments": {},
   "cell_type": "markdown",
   "metadata": {},
   "source": [
    "## Generate Chunks"
   ]
  },
  {
   "cell_type": "code",
   "execution_count": 8,
   "metadata": {},
   "outputs": [],
   "source": [
    "\n",
    "# Chunk Articles\n",
    "len_words = 250\n",
    "\n",
    "titles=[]\n",
    "links=[]\n",
    "dates=[]\n",
    "text=[]\n",
    "chunk_number=[]\n",
    "\n",
    "for i in range(0,len(df)):\n",
    "\n",
    "    # Determine whether to chunk an article based on length\n",
    "    if (len(df['n_summary'][i]) <= len_words):\n",
    "        # TODO: Keep the row for all the records with fewer words than len_words\n",
    "        titles.append(df['n_title'][i])\n",
    "        links.append(df['n_link'][i])\n",
    "        dates.append(df['n_date_published'][i])\n",
    "        text.append(df['n_summary'][i])\n",
    "        chunk_number.append(i)\n",
    "\n",
    "    else:\n",
    "        # Chunk article\n",
    "        article = df['n_summary'][i]\n",
    "        chunked_article = list(group_words(article,len_words))\n",
    "\n",
    "        # Keep track of attributes\n",
    "        article_title = df['n_title'][i]\n",
    "        article_link = df['n_link'][i]\n",
    "        article_date = df['n_date_published'][i]\n",
    "\n",
    "        for i in range(0, len(chunked_article)):\n",
    "            titles.append(article_title)\n",
    "            links.append(article_link)\n",
    "            dates.append(article_date)\n",
    "            text.append(chunked_article[i])\n",
    "            chunk_number.append(i)\n",
    "\n",
    "\n",
    "# Build dataframe from lists\n",
    "\n",
    "chunked_df = pd.DataFrame()\n",
    "chunked_df['n_title'] = titles\n",
    "chunked_df['n_link'] = links\n",
    "chunked_df['n_date_published'] = dates\n",
    "chunked_df['n_summary'] = text\n",
    "chunked_df['chunk_number'] = chunk_number\n"
   ]
  },
  {
   "cell_type": "code",
   "execution_count": 9,
   "metadata": {},
   "outputs": [],
   "source": [
    "# Keep Schema of both tables the same\n",
    "df['chunk_number'] = 0"
   ]
  },
  {
   "attachments": {},
   "cell_type": "markdown",
   "metadata": {},
   "source": [
    "## Generate Embeddings"
   ]
  },
  {
   "cell_type": "code",
   "execution_count": 10,
   "metadata": {},
   "outputs": [],
   "source": [
    "# Embeddings on articles\n",
    "article_embeddings = get_embeddings(df['n_summary'])\n",
    "df['embeddings'] = article_embeddings.tolist()\n",
    "\n",
    "# Embeddings on chunks\n",
    "chunked_embeddings = get_embeddings(chunked_df['n_summary'])\n",
    "chunked_df['embeddings'] = chunked_embeddings.tolist()"
   ]
  },
  {
   "cell_type": "code",
   "execution_count": 11,
   "metadata": {},
   "outputs": [
    {
     "data": {
      "text/html": [
       "<div>\n",
       "<style scoped>\n",
       "    .dataframe tbody tr th:only-of-type {\n",
       "        vertical-align: middle;\n",
       "    }\n",
       "\n",
       "    .dataframe tbody tr th {\n",
       "        vertical-align: top;\n",
       "    }\n",
       "\n",
       "    .dataframe thead th {\n",
       "        text-align: right;\n",
       "    }\n",
       "</style>\n",
       "<table border=\"1\" class=\"dataframe\">\n",
       "  <thead>\n",
       "    <tr style=\"text-align: right;\">\n",
       "      <th></th>\n",
       "      <th>n_title</th>\n",
       "      <th>n_link</th>\n",
       "      <th>n_date_published</th>\n",
       "      <th>n_summary</th>\n",
       "      <th>chunk_number</th>\n",
       "      <th>embeddings</th>\n",
       "    </tr>\n",
       "  </thead>\n",
       "  <tbody>\n",
       "    <tr>\n",
       "      <th>0</th>\n",
       "      <td>Mini Nuclear Reactor Firm Newcleo Starts to Ra...</td>\n",
       "      <td>https://www.bnef.com/news/1127367?e=RSS:MixedFeed</td>\n",
       "      <td>2023-03-20 00:54:00Z</td>\n",
       "      <td>Newcleo, a company developing small nuclear re...</td>\n",
       "      <td>0</td>\n",
       "      <td>[-0.03327552229166031, 0.00040942453779280186,...</td>\n",
       "    </tr>\n",
       "    <tr>\n",
       "      <th>1</th>\n",
       "      <td>Foreign Investor Interest in India Renewables ...</td>\n",
       "      <td>https://www.bnef.com/shorts/15929?e=RSS:MixedFeed</td>\n",
       "      <td>2023-03-06 08:35:00Z</td>\n",
       "      <td>India closed $2.6 billion M&amp;A deals in 2022For...</td>\n",
       "      <td>0</td>\n",
       "      <td>[-0.007411965634673834, -0.019612805917859077,...</td>\n",
       "    </tr>\n",
       "    <tr>\n",
       "      <th>2</th>\n",
       "      <td>Enough Wind Power for a Major City Snarled Ami...</td>\n",
       "      <td>https://www.bnef.com/news/1123837?e=RSS:MixedFeed</td>\n",
       "      <td>2023-03-09 01:42:39Z</td>\n",
       "      <td>A cluster of seven wind turbines towering abov...</td>\n",
       "      <td>0</td>\n",
       "      <td>[-0.03466905653476715, 0.07593218237161636, 0....</td>\n",
       "    </tr>\n",
       "    <tr>\n",
       "      <th>3</th>\n",
       "      <td>ExxonMobil tests advanced recycling of plastic...</td>\n",
       "      <td>https://corporate.exxonmobil.com/news/newsroom...</td>\n",
       "      <td>2021-02-25  00:00:00</td>\n",
       "      <td>ExxonMobil has completed the initial phase of ...</td>\n",
       "      <td>0</td>\n",
       "      <td>[-0.016767723485827446, -0.017263615503907204,...</td>\n",
       "    </tr>\n",
       "    <tr>\n",
       "      <th>4</th>\n",
       "      <td>Asia Is Set to Steer Strong March Global Jet F...</td>\n",
       "      <td>https://www.bnef.com/insights/30917?e=RSS:Mixe...</td>\n",
       "      <td>2023-03-03 09:20:28Z</td>\n",
       "      <td>With spring approaching, air travel will gathe...</td>\n",
       "      <td>0</td>\n",
       "      <td>[0.0570218563079834, -0.044863808900117874, 0....</td>\n",
       "    </tr>\n",
       "  </tbody>\n",
       "</table>\n",
       "</div>"
      ],
      "text/plain": [
       "                                             n_title  \\\n",
       "0  Mini Nuclear Reactor Firm Newcleo Starts to Ra...   \n",
       "1  Foreign Investor Interest in India Renewables ...   \n",
       "2  Enough Wind Power for a Major City Snarled Ami...   \n",
       "3  ExxonMobil tests advanced recycling of plastic...   \n",
       "4  Asia Is Set to Steer Strong March Global Jet F...   \n",
       "\n",
       "                                              n_link      n_date_published  \\\n",
       "0  https://www.bnef.com/news/1127367?e=RSS:MixedFeed  2023-03-20 00:54:00Z   \n",
       "1  https://www.bnef.com/shorts/15929?e=RSS:MixedFeed  2023-03-06 08:35:00Z   \n",
       "2  https://www.bnef.com/news/1123837?e=RSS:MixedFeed  2023-03-09 01:42:39Z   \n",
       "3  https://corporate.exxonmobil.com/news/newsroom...  2021-02-25  00:00:00   \n",
       "4  https://www.bnef.com/insights/30917?e=RSS:Mixe...  2023-03-03 09:20:28Z   \n",
       "\n",
       "                                           n_summary  chunk_number  \\\n",
       "0  Newcleo, a company developing small nuclear re...             0   \n",
       "1  India closed $2.6 billion M&A deals in 2022For...             0   \n",
       "2  A cluster of seven wind turbines towering abov...             0   \n",
       "3  ExxonMobil has completed the initial phase of ...             0   \n",
       "4  With spring approaching, air travel will gathe...             0   \n",
       "\n",
       "                                          embeddings  \n",
       "0  [-0.03327552229166031, 0.00040942453779280186,...  \n",
       "1  [-0.007411965634673834, -0.019612805917859077,...  \n",
       "2  [-0.03466905653476715, 0.07593218237161636, 0....  \n",
       "3  [-0.016767723485827446, -0.017263615503907204,...  \n",
       "4  [0.0570218563079834, -0.044863808900117874, 0....  "
      ]
     },
     "execution_count": 11,
     "metadata": {},
     "output_type": "execute_result"
    }
   ],
   "source": [
    "df.head()"
   ]
  },
  {
   "cell_type": "code",
   "execution_count": 12,
   "metadata": {},
   "outputs": [
    {
     "data": {
      "text/html": [
       "<div>\n",
       "<style scoped>\n",
       "    .dataframe tbody tr th:only-of-type {\n",
       "        vertical-align: middle;\n",
       "    }\n",
       "\n",
       "    .dataframe tbody tr th {\n",
       "        vertical-align: top;\n",
       "    }\n",
       "\n",
       "    .dataframe thead th {\n",
       "        text-align: right;\n",
       "    }\n",
       "</style>\n",
       "<table border=\"1\" class=\"dataframe\">\n",
       "  <thead>\n",
       "    <tr style=\"text-align: right;\">\n",
       "      <th></th>\n",
       "      <th>n_title</th>\n",
       "      <th>n_link</th>\n",
       "      <th>n_date_published</th>\n",
       "      <th>n_summary</th>\n",
       "      <th>chunk_number</th>\n",
       "      <th>embeddings</th>\n",
       "    </tr>\n",
       "  </thead>\n",
       "  <tbody>\n",
       "    <tr>\n",
       "      <th>0</th>\n",
       "      <td>Mini Nuclear Reactor Firm Newcleo Starts to Ra...</td>\n",
       "      <td>https://www.bnef.com/news/1127367?e=RSS:MixedFeed</td>\n",
       "      <td>2023-03-20 00:54:00Z</td>\n",
       "      <td>Newcleo, a company developing small nuclear re...</td>\n",
       "      <td>0</td>\n",
       "      <td>[-0.03327552229166031, 0.00040942453779280186,...</td>\n",
       "    </tr>\n",
       "    <tr>\n",
       "      <th>1</th>\n",
       "      <td>Foreign Investor Interest in India Renewables ...</td>\n",
       "      <td>https://www.bnef.com/shorts/15929?e=RSS:MixedFeed</td>\n",
       "      <td>2023-03-06 08:35:00Z</td>\n",
       "      <td>India closed $2.6 billion M&amp;A deals in 2022For...</td>\n",
       "      <td>0</td>\n",
       "      <td>[-0.007411965634673834, -0.019612805917859077,...</td>\n",
       "    </tr>\n",
       "    <tr>\n",
       "      <th>2</th>\n",
       "      <td>Enough Wind Power for a Major City Snarled Ami...</td>\n",
       "      <td>https://www.bnef.com/news/1123837?e=RSS:MixedFeed</td>\n",
       "      <td>2023-03-09 01:42:39Z</td>\n",
       "      <td>A cluster of seven wind turbines towering abov...</td>\n",
       "      <td>0</td>\n",
       "      <td>[-0.03466905653476715, 0.07593218237161636, 0....</td>\n",
       "    </tr>\n",
       "    <tr>\n",
       "      <th>3</th>\n",
       "      <td>Enough Wind Power for a Major City Snarled Ami...</td>\n",
       "      <td>https://www.bnef.com/news/1123837?e=RSS:MixedFeed</td>\n",
       "      <td>2023-03-09 01:42:39Z</td>\n",
       "      <td>a deadline to get their projects completed and...</td>\n",
       "      <td>1</td>\n",
       "      <td>[-0.07823453843593597, 0.06682262569665909, 0....</td>\n",
       "    </tr>\n",
       "    <tr>\n",
       "      <th>4</th>\n",
       "      <td>Enough Wind Power for a Major City Snarled Ami...</td>\n",
       "      <td>https://www.bnef.com/news/1123837?e=RSS:MixedFeed</td>\n",
       "      <td>2023-03-09 01:42:39Z</td>\n",
       "      <td>amount of projects didn’t make the cut-off. Th...</td>\n",
       "      <td>2</td>\n",
       "      <td>[-0.06473474949598312, 0.0613916851580143, 0.0...</td>\n",
       "    </tr>\n",
       "  </tbody>\n",
       "</table>\n",
       "</div>"
      ],
      "text/plain": [
       "                                             n_title  \\\n",
       "0  Mini Nuclear Reactor Firm Newcleo Starts to Ra...   \n",
       "1  Foreign Investor Interest in India Renewables ...   \n",
       "2  Enough Wind Power for a Major City Snarled Ami...   \n",
       "3  Enough Wind Power for a Major City Snarled Ami...   \n",
       "4  Enough Wind Power for a Major City Snarled Ami...   \n",
       "\n",
       "                                              n_link      n_date_published  \\\n",
       "0  https://www.bnef.com/news/1127367?e=RSS:MixedFeed  2023-03-20 00:54:00Z   \n",
       "1  https://www.bnef.com/shorts/15929?e=RSS:MixedFeed  2023-03-06 08:35:00Z   \n",
       "2  https://www.bnef.com/news/1123837?e=RSS:MixedFeed  2023-03-09 01:42:39Z   \n",
       "3  https://www.bnef.com/news/1123837?e=RSS:MixedFeed  2023-03-09 01:42:39Z   \n",
       "4  https://www.bnef.com/news/1123837?e=RSS:MixedFeed  2023-03-09 01:42:39Z   \n",
       "\n",
       "                                           n_summary  chunk_number  \\\n",
       "0  Newcleo, a company developing small nuclear re...             0   \n",
       "1  India closed $2.6 billion M&A deals in 2022For...             0   \n",
       "2  A cluster of seven wind turbines towering abov...             0   \n",
       "3  a deadline to get their projects completed and...             1   \n",
       "4  amount of projects didn’t make the cut-off. Th...             2   \n",
       "\n",
       "                                          embeddings  \n",
       "0  [-0.03327552229166031, 0.00040942453779280186,...  \n",
       "1  [-0.007411965634673834, -0.019612805917859077,...  \n",
       "2  [-0.03466905653476715, 0.07593218237161636, 0....  \n",
       "3  [-0.07823453843593597, 0.06682262569665909, 0....  \n",
       "4  [-0.06473474949598312, 0.0613916851580143, 0.0...  "
      ]
     },
     "execution_count": 12,
     "metadata": {},
     "output_type": "execute_result"
    }
   ],
   "source": [
    "chunked_df.head()"
   ]
  },
  {
   "cell_type": "code",
   "execution_count": 15,
   "metadata": {},
   "outputs": [],
   "source": [
    "chunked_df['string'] = \"URL=\"\n",
    "chunked_df['n_link'] = chunked_df['string'] + chunked_df['n_link']\n",
    "\n",
    "del chunked_df['string']"
   ]
  },
  {
   "cell_type": "code",
   "execution_count": 16,
   "metadata": {},
   "outputs": [],
   "source": [
    "df['string'] = \"URL=\"\n",
    "df['n_link'] = df['string'] + df['n_link']\n",
    "\n",
    "del df['string']"
   ]
  },
  {
   "attachments": {},
   "cell_type": "markdown",
   "metadata": {},
   "source": [
    "## Output Chunks"
   ]
  },
  {
   "cell_type": "code",
   "execution_count": 22,
   "metadata": {},
   "outputs": [],
   "source": [
    "OUTPUT_filepath = \"C:\\\\Users\\\\hlmq\\\\OneDrive - Chevron\\\\Desktop\\\\Projects\\\\Company Relationships\\\\Data\\\\Exxon\\\\\"\n",
    "OUTPUT_filename = \"CompanyProfileNewsData_withChunking_withEmbedding.json\"\n",
    "\n",
    "chunked_df.to_json(str(OUTPUT_filepath)+str(OUTPUT_filename), orient='records')"
   ]
  },
  {
   "cell_type": "code",
   "execution_count": 21,
   "metadata": {},
   "outputs": [
    {
     "data": {
      "text/plain": [
       "3000"
      ]
     },
     "execution_count": 21,
     "metadata": {},
     "output_type": "execute_result"
    }
   ],
   "source": [
    "len(chunked_df)"
   ]
  },
  {
   "cell_type": "code",
   "execution_count": null,
   "metadata": {},
   "outputs": [],
   "source": []
  }
 ],
 "metadata": {
  "kernelspec": {
   "display_name": "nlp_testing",
   "language": "python",
   "name": "python3"
  },
  "language_info": {
   "codemirror_mode": {
    "name": "ipython",
    "version": 3
   },
   "file_extension": ".py",
   "mimetype": "text/x-python",
   "name": "python",
   "nbconvert_exporter": "python",
   "pygments_lexer": "ipython3",
   "version": "3.9.5"
  },
  "orig_nbformat": 4
 },
 "nbformat": 4,
 "nbformat_minor": 2
}
