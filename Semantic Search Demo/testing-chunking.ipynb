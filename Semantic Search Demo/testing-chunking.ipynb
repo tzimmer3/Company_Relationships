{
 "cells": [
  {
   "cell_type": "code",
   "execution_count": null,
   "metadata": {},
   "outputs": [],
   "source": [
    "string = \"when an unknown printer took a galley of type and scrambled it to make a type specimen book.\"\n",
    "length = 20\n",
    "list_of_strings = []\n",
    "for i in range(0, len(string), length):\n",
    "    list_of_strings.append(string[i:length+i])\n",
    "print(list_of_strings)"
   ]
  },
  {
   "cell_type": "code",
   "execution_count": null,
   "metadata": {},
   "outputs": [],
   "source": [
    "s = \"when an unknown printer took a galley of type and scrambled it to make a type specimen book.\"\n",
    "n = 15\n",
    "\n",
    "def group_words(s, n):\n",
    "    words = s.split()\n",
    "    for i in range(0, len(words), n):\n",
    "        yield ' '.join(words[i:i+n])\n",
    "\n",
    "print(list(group_words(s,n)))"
   ]
  }
 ],
 "metadata": {
  "language_info": {
   "name": "python"
  },
  "orig_nbformat": 4
 },
 "nbformat": 4,
 "nbformat_minor": 2
}
