{
 "cells": [
  {
   "attachments": {},
   "cell_type": "markdown",
   "metadata": {},
   "source": [
    "# Generate Chunks from Larger Documents"
   ]
  },
  {
   "attachments": {},
   "cell_type": "markdown",
   "metadata": {},
   "source": [
    "This notebook is used to break down documents into smaller text sequences so that the model can consume them."
   ]
  },
  {
   "cell_type": "code",
   "execution_count": 1,
   "metadata": {},
   "outputs": [],
   "source": [
    "# Import Packages\n",
    "import pandas as pd\n",
    "from joblib import load\n",
    "\n",
    "from src import get_num_tokens"
   ]
  },
  {
   "cell_type": "code",
   "execution_count": null,
   "metadata": {},
   "outputs": [],
   "source": [
    "# Import Data\n",
    "filepath = \"C:\\\\Users\\\\hlmq\\\\OneDrive - Chevron\\\\Desktop\\\\Projects\\\\Company Relationships\\\\Data\\\\Exxon\\\\\"\n",
    "filename = \"CompanyProfileNewsData.json\"\n",
    "\n",
    "df = pd.read_json(str(filepath)+str(filename), lines=True)\n",
    "df.head()"
   ]
  },
  {
   "cell_type": "code",
   "execution_count": null,
   "metadata": {},
   "outputs": [],
   "source": [
    "## Functions\n",
    "\n"
   ]
  },
  {
   "attachments": {},
   "cell_type": "markdown",
   "metadata": {},
   "source": [
    "## Generate Chunks"
   ]
  },
  {
   "cell_type": "code",
   "execution_count": null,
   "metadata": {},
   "outputs": [],
   "source": [
    "# Functions\n",
    "\n",
    "def group_words(s, n):\n",
    "    words = s.split()\n",
    "    for i in range(0, len(words), n):\n",
    "        yield ' '.join(words[i:i+n])"
   ]
  },
  {
   "cell_type": "code",
   "execution_count": null,
   "metadata": {},
   "outputs": [],
   "source": [
    "\n",
    "# Chunk Articles\n",
    "len_words = 250\n",
    "\n",
    "titles=[]\n",
    "links=[]\n",
    "dates=[]\n",
    "text=[]\n",
    "chunk_number=[]\n",
    "\n",
    "for i in range(0,len(df)):\n",
    "\n",
    "    # Determine whether to chunk an article based on length\n",
    "    if (len(df['n_summary'][i]) <= len_words):\n",
    "        # TODO: Keep the row for all the records with fewer words than len_words\n",
    "        titles.append(df['n_title'][i])\n",
    "        links.append(df['n_link'][i])\n",
    "        dates.append(df['n_date_published'][i])\n",
    "        text.append(df['n_summary'][i])\n",
    "        chunk_number.append(i)\n",
    "\n",
    "    else:\n",
    "        # Chunk article\n",
    "        article = df['n_summary'][i]\n",
    "        chunked_article = list(group_words(article,len_words))\n",
    "\n",
    "        # Keep track of attributes\n",
    "        article_title = df['n_title'][i]\n",
    "        article_link = df['n_link'][i]\n",
    "        article_date = df['n_date_published'][i]\n",
    "\n",
    "        for i in range(0, len(chunked_article)):\n",
    "            titles.append(article_title)\n",
    "            links.append(article_link)\n",
    "            dates.append(article_date)\n",
    "            text.append(chunked_article[i])\n",
    "            chunk_number.append(i)\n",
    "\n",
    "\n",
    "# Build dataframe from lists\n",
    "\n",
    "chunked_df = pd.DataFrame()\n",
    "chunked_df['n_title'] = titles\n",
    "chunked_df['n_link'] = links\n",
    "chunked_df['n_date_published'] = dates\n",
    "chunked_df['n_summary'] = text\n",
    "chunked_df['chunk_number'] = chunk_number\n"
   ]
  },
  {
   "cell_type": "code",
   "execution_count": null,
   "metadata": {},
   "outputs": [],
   "source": [
    "## STEPS\n",
    "\n",
    "# Count number of tokens in each article\n",
    "df['token count'] = df['n_summary'].apply(get_num_tokens)"
   ]
  },
  {
   "attachments": {},
   "cell_type": "markdown",
   "metadata": {},
   "source": [
    "## Output Chunks"
   ]
  },
  {
   "cell_type": "code",
   "execution_count": null,
   "metadata": {},
   "outputs": [],
   "source": [
    "OUTPUT_filepath = \"C:\\\\Users\\\\hlmq\\\\OneDrive - Chevron\\\\Desktop\\\\Projects\\\\Company Relationships\\\\Data\\\\Exxon\\\\\"\n",
    "OUTPUT_filename = \"CompanyProfileNewsData_chunked.csv\"\n",
    "\n",
    "df.to_csv(str(OUTPUT_filepath)+str(OUTPUT_filename), index=False)"
   ]
  }
 ],
 "metadata": {
  "kernelspec": {
   "display_name": "nlp_testing",
   "language": "python",
   "name": "python3"
  },
  "language_info": {
   "codemirror_mode": {
    "name": "ipython",
    "version": 3
   },
   "file_extension": ".py",
   "mimetype": "text/x-python",
   "name": "python",
   "nbconvert_exporter": "python",
   "pygments_lexer": "ipython3",
   "version": "3.9.5"
  },
  "orig_nbformat": 4
 },
 "nbformat": 4,
 "nbformat_minor": 2
}
