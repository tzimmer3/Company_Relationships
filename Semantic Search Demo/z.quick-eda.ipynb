{
 "cells": [
  {
   "cell_type": "code",
   "execution_count": 2,
   "metadata": {},
   "outputs": [],
   "source": [
    "import pandas as pd\n",
    "\n",
    "from src import get_num_tokens"
   ]
  },
  {
   "cell_type": "code",
   "execution_count": 3,
   "metadata": {},
   "outputs": [],
   "source": [
    "df = pd.read_json(\"C:\\\\Users\\\\hlmq\\\\OneDrive - Chevron\\\\Desktop\\\\Projects\\\\Company Relationships\\\\Data\\\\Exxon\\\\CompanyProfileNewsData.json\", lines=True)"
   ]
  },
  {
   "cell_type": "code",
   "execution_count": 4,
   "metadata": {},
   "outputs": [
    {
     "data": {
      "text/html": [
       "<div>\n",
       "<style scoped>\n",
       "    .dataframe tbody tr th:only-of-type {\n",
       "        vertical-align: middle;\n",
       "    }\n",
       "\n",
       "    .dataframe tbody tr th {\n",
       "        vertical-align: top;\n",
       "    }\n",
       "\n",
       "    .dataframe thead th {\n",
       "        text-align: right;\n",
       "    }\n",
       "</style>\n",
       "<table border=\"1\" class=\"dataframe\">\n",
       "  <thead>\n",
       "    <tr style=\"text-align: right;\">\n",
       "      <th></th>\n",
       "      <th>n_title</th>\n",
       "      <th>n_link</th>\n",
       "      <th>n_date_published</th>\n",
       "      <th>n_summary</th>\n",
       "    </tr>\n",
       "  </thead>\n",
       "  <tbody>\n",
       "    <tr>\n",
       "      <th>1326</th>\n",
       "      <td>US LPG Exports Hit a Record on Warm Winter, Pe...</td>\n",
       "      <td>https://www.bnef.com/shorts/15867?e=RSS:MixedFeed</td>\n",
       "      <td>2023-02-27 14:05:00Z</td>\n",
       "      <td>US exporters shipped a record amount of LPG in...</td>\n",
       "    </tr>\n",
       "    <tr>\n",
       "      <th>1327</th>\n",
       "      <td>Largest US Grid Sees Power Plant Shutdowns Out...</td>\n",
       "      <td>https://www.bnef.com/news/1120237?e=RSS:MixedFeed</td>\n",
       "      <td>2023-02-27 00:46:08Z</td>\n",
       "      <td>Power plants on the largest US grid are shutti...</td>\n",
       "    </tr>\n",
       "    <tr>\n",
       "      <th>1328</th>\n",
       "      <td>Canadian Crackdown on Chinese Funding Hurts Mi...</td>\n",
       "      <td>https://www.bnef.com/news/1122841?e=RSS:MixedFeed</td>\n",
       "      <td>2023-03-06 18:17:07Z</td>\n",
       "      <td>Canada’s crackdown on Chinese investment in cr...</td>\n",
       "    </tr>\n",
       "    <tr>\n",
       "      <th>1329</th>\n",
       "      <td>Europe Extends Car-Sales Growth Streak to Seve...</td>\n",
       "      <td>https://www.bnef.com/news/1127483?e=RSS:MixedFeed</td>\n",
       "      <td>2023-03-21 08:50:04Z</td>\n",
       "      <td>Auto sales in Europe increased for a seventh s...</td>\n",
       "    </tr>\n",
       "    <tr>\n",
       "      <th>1330</th>\n",
       "      <td>US Gas Monthly: The Weather Forecast Switcheroo</td>\n",
       "      <td>https://www.bnef.com/insights/30953?e=RSS:Mixe...</td>\n",
       "      <td>2023-03-08 19:00:00Z</td>\n",
       "      <td>After a continuous decline between mid-Decembe...</td>\n",
       "    </tr>\n",
       "  </tbody>\n",
       "</table>\n",
       "</div>"
      ],
      "text/plain": [
       "                                                n_title  \\\n",
       "1326  US LPG Exports Hit a Record on Warm Winter, Pe...   \n",
       "1327  Largest US Grid Sees Power Plant Shutdowns Out...   \n",
       "1328  Canadian Crackdown on Chinese Funding Hurts Mi...   \n",
       "1329  Europe Extends Car-Sales Growth Streak to Seve...   \n",
       "1330   US Gas Monthly: The Weather Forecast Switcheroo    \n",
       "\n",
       "                                                 n_link      n_date_published  \\\n",
       "1326  https://www.bnef.com/shorts/15867?e=RSS:MixedFeed  2023-02-27 14:05:00Z   \n",
       "1327  https://www.bnef.com/news/1120237?e=RSS:MixedFeed  2023-02-27 00:46:08Z   \n",
       "1328  https://www.bnef.com/news/1122841?e=RSS:MixedFeed  2023-03-06 18:17:07Z   \n",
       "1329  https://www.bnef.com/news/1127483?e=RSS:MixedFeed  2023-03-21 08:50:04Z   \n",
       "1330  https://www.bnef.com/insights/30953?e=RSS:Mixe...  2023-03-08 19:00:00Z   \n",
       "\n",
       "                                              n_summary  \n",
       "1326  US exporters shipped a record amount of LPG in...  \n",
       "1327  Power plants on the largest US grid are shutti...  \n",
       "1328  Canada’s crackdown on Chinese investment in cr...  \n",
       "1329  Auto sales in Europe increased for a seventh s...  \n",
       "1330  After a continuous decline between mid-Decembe...  "
      ]
     },
     "execution_count": 4,
     "metadata": {},
     "output_type": "execute_result"
    }
   ],
   "source": [
    "df.tail()"
   ]
  },
  {
   "cell_type": "code",
   "execution_count": 5,
   "metadata": {},
   "outputs": [
    {
     "data": {
      "text/plain": [
       "'2021-01-13  00:00:00'"
      ]
     },
     "execution_count": 5,
     "metadata": {},
     "output_type": "execute_result"
    }
   ],
   "source": [
    "df['n_date_published'].min()"
   ]
  },
  {
   "cell_type": "code",
   "execution_count": 6,
   "metadata": {},
   "outputs": [
    {
     "data": {
      "text/plain": [
       "'2023-03-22 20:39:41Z'"
      ]
     },
     "execution_count": 6,
     "metadata": {},
     "output_type": "execute_result"
    }
   ],
   "source": [
    "df['n_date_published'].max()"
   ]
  },
  {
   "attachments": {},
   "cell_type": "markdown",
   "metadata": {},
   "source": [
    "## Article Length"
   ]
  },
  {
   "cell_type": "code",
   "execution_count": 9,
   "metadata": {},
   "outputs": [],
   "source": [
    "df['token count'] = df['n_summary'].apply(get_num_tokens)"
   ]
  },
  {
   "cell_type": "code",
   "execution_count": 11,
   "metadata": {},
   "outputs": [
    {
     "data": {
      "text/plain": [
       "0"
      ]
     },
     "execution_count": 11,
     "metadata": {},
     "output_type": "execute_result"
    }
   ],
   "source": [
    "df['token count'].min()"
   ]
  },
  {
   "cell_type": "code",
   "execution_count": 12,
   "metadata": {},
   "outputs": [
    {
     "data": {
      "text/plain": [
       "7140"
      ]
     },
     "execution_count": 12,
     "metadata": {},
     "output_type": "execute_result"
    }
   ],
   "source": [
    "df['token count'].max()"
   ]
  },
  {
   "cell_type": "code",
   "execution_count": 13,
   "metadata": {},
   "outputs": [
    {
     "name": "stderr",
     "output_type": "stream",
     "text": [
      "c:\\ProgramData\\Miniconda3\\envs\\nlp_testing\\lib\\site-packages\\seaborn\\distributions.py:2619: FutureWarning: `distplot` is a deprecated function and will be removed in a future version. Please adapt your code to use either `displot` (a figure-level function with similar flexibility) or `histplot` (an axes-level function for histograms).\n",
      "  warnings.warn(msg, FutureWarning)\n"
     ]
    },
    {
     "data": {
      "text/plain": [
       "<AxesSubplot: xlabel='token count', ylabel='Density'>"
      ]
     },
     "execution_count": 13,
     "metadata": {},
     "output_type": "execute_result"
    },
    {
     "data": {
      "image/png": "[encoded data removed]",
      "text/plain": [
       "<Figure size 640x480 with 1 Axes>"
      ]
     },
     "metadata": {},
     "output_type": "display_data"
    }
   ],
   "source": [
    "import seaborn as sns\n",
    "\n",
    "sns.distplot(df['token count'])"
   ]
  },
  {
   "cell_type": "code",
   "execution_count": null,
   "metadata": {},
   "outputs": [],
   "source": []
  }
 ],
 "metadata": {
  "kernelspec": {
   "display_name": "Python 3",
   "language": "python",
   "name": "python3"
  },
  "language_info": {
   "codemirror_mode": {
    "name": "ipython",
    "version": 3
   },
   "file_extension": ".py",
   "mimetype": "text/x-python",
   "name": "python",
   "nbconvert_exporter": "python",
   "pygments_lexer": "ipython3",
   "version": "3.9.5"
  },
  "orig_nbformat": 4,
  "vscode": {
   "interpreter": {
    "hash": "369f2c481f4da34e4445cda3fffd2e751bd1c4d706f27375911949ba6bb62e1c"
   }
  }
 },
 "nbformat": 4,
 "nbformat_minor": 2
}
